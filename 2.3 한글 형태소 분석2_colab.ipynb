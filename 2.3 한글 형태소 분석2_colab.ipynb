{
  "nbformat": 4,
  "nbformat_minor": 0,
  "metadata": {
    "colab": {
      "provenance": []
    },
    "kernelspec": {
      "name": "python3",
      "display_name": "Python 3"
    },
    "language_info": {
      "name": "python"
    }
  },
  "cells": [
    {
      "cell_type": "code",
      "execution_count": null,
      "metadata": {
        "id": "h2Oo4hN55PiH"
      },
      "outputs": [],
      "source": []
    },
    {
      "cell_type": "markdown",
      "source": [
        "### ETRI OpenAPI 설정"
      ],
      "metadata": {
        "id": "wbu96WHPNObG"
      }
    },
    {
      "cell_type": "code",
      "source": [
        " #-*- coding:utf-8 -*-\n",
        "import urllib3\n",
        "import json\n",
        "\n",
        "openApiURL = \"http://epretx.etri.re.kr:8000/api/WiseNLU\"\n",
        "accessKey = \"635c375a-6776-4414-8d63-432e588e5858\"\n",
        "analysisCode = \"morp\""
      ],
      "metadata": {
        "id": "DMZ0PAG-NM58"
      },
      "execution_count": null,
      "outputs": []
    },
    {
      "cell_type": "markdown",
      "source": [
        "### OpenAPI 호출을 위한 HTTP 설정\n"
      ],
      "metadata": {
        "id": "F-ob2N4oNW9c"
      }
    },
    {
      "cell_type": "code",
      "source": [
        "text = \"\"\"나는 하늘을 나는 비행기를 보았다\"\"\""
      ],
      "metadata": {
        "id": "Fed9HVvd9LOh"
      },
      "execution_count": null,
      "outputs": []
    },
    {
      "cell_type": "code",
      "source": [
        "requestJson = {\n",
        "    \"argument\": {\n",
        "        \"text\": text,\n",
        "        \"analysis_code\": analysisCode\n",
        "    }\n",
        "}"
      ],
      "metadata": {
        "id": "0E7igXwH5WZ3"
      },
      "execution_count": null,
      "outputs": []
    },
    {
      "cell_type": "markdown",
      "source": [
        "### OpenAPI 호출 및 결과 출력"
      ],
      "metadata": {
        "id": "_AcvnNsMNeip"
      }
    },
    {
      "cell_type": "code",
      "source": [
        "http = urllib3.PoolManager()\n",
        "response = http.request(\n",
        "    \"POST\",\n",
        "    openApiURL,\n",
        "    headers={\"Content-Type\": \"application/json; charset=UTF-8\", \"Authorization\" :  accessKey},\n",
        "    body=json.dumps(requestJson)\n",
        ")\n",
        "json_data = json.loads(response.data.decode('utf-8'))\n",
        "print(json_data['return_object'])"
      ],
      "metadata": {
        "id": "azjZwoJm5YHA"
      },
      "execution_count": null,
      "outputs": []
    },
    {
      "cell_type": "markdown",
      "source": [
        "### JSON 데이터 파싱 및 출력"
      ],
      "metadata": {
        "id": "nz3_JEGENkm6"
      }
    },
    {
      "cell_type": "code",
      "metadata": {
        "id": "0ea8be30"
      },
      "source": [
        "morp_data = json_data['return_object']['sentence'][0]['morp']\n",
        "\n",
        "extracted_data = []\n",
        "for item in morp_data:\n",
        "    extracted_data.append((item['lemma'], item['type']))\n",
        "\n",
        "pprint.pprint(extracted_data)"
      ],
      "execution_count": null,
      "outputs": []
    },
    {
      "cell_type": "code",
      "source": [],
      "metadata": {
        "id": "vQnQkpy4D3Os"
      },
      "execution_count": null,
      "outputs": []
    }
  ]
}