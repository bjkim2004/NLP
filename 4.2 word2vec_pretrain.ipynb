{
  "cells": [
    {
      "cell_type": "code",
      "execution_count": null,
      "metadata": {
        "id": "iuAuT0ClSvKB"
      },
      "outputs": [],
      "source": [
        "#https://drive.google.com/file/d/0B0ZXk88koS2KbDhXdWg1Q2RydlU/view"
      ]
    },
    {
      "cell_type": "code",
      "source": [
        "!pip install gensim"
      ],
      "metadata": {
        "colab": {
          "base_uri": "https://localhost:8080/"
        },
        "id": "xxxq4j3dTr_0",
        "outputId": "21e795d7-a859-43e4-f87f-ceefe07cf442"
      },
      "execution_count": 3,
      "outputs": [
        {
          "output_type": "stream",
          "name": "stdout",
          "text": [
            "Requirement already satisfied: gensim in /usr/local/lib/python3.12/dist-packages (4.3.3)\n",
            "Requirement already satisfied: gdown in /usr/local/lib/python3.12/dist-packages (5.2.0)\n",
            "Requirement already satisfied: numpy<2.0,>=1.18.5 in /usr/local/lib/python3.12/dist-packages (from gensim) (1.26.4)\n",
            "Requirement already satisfied: scipy<1.14.0,>=1.7.0 in /usr/local/lib/python3.12/dist-packages (from gensim) (1.13.1)\n",
            "Requirement already satisfied: smart-open>=1.8.1 in /usr/local/lib/python3.12/dist-packages (from gensim) (7.3.1)\n",
            "Requirement already satisfied: beautifulsoup4 in /usr/local/lib/python3.12/dist-packages (from gdown) (4.13.5)\n",
            "Requirement already satisfied: filelock in /usr/local/lib/python3.12/dist-packages (from gdown) (3.19.1)\n",
            "Requirement already satisfied: requests[socks] in /usr/local/lib/python3.12/dist-packages (from gdown) (2.32.4)\n",
            "Requirement already satisfied: tqdm in /usr/local/lib/python3.12/dist-packages (from gdown) (4.67.1)\n",
            "Requirement already satisfied: wrapt in /usr/local/lib/python3.12/dist-packages (from smart-open>=1.8.1->gensim) (1.17.3)\n",
            "Requirement already satisfied: soupsieve>1.2 in /usr/local/lib/python3.12/dist-packages (from beautifulsoup4->gdown) (2.8)\n",
            "Requirement already satisfied: typing-extensions>=4.0.0 in /usr/local/lib/python3.12/dist-packages (from beautifulsoup4->gdown) (4.15.0)\n",
            "Requirement already satisfied: charset_normalizer<4,>=2 in /usr/local/lib/python3.12/dist-packages (from requests[socks]->gdown) (3.4.3)\n",
            "Requirement already satisfied: idna<4,>=2.5 in /usr/local/lib/python3.12/dist-packages (from requests[socks]->gdown) (3.10)\n",
            "Requirement already satisfied: urllib3<3,>=1.21.1 in /usr/local/lib/python3.12/dist-packages (from requests[socks]->gdown) (2.5.0)\n",
            "Requirement already satisfied: certifi>=2017.4.17 in /usr/local/lib/python3.12/dist-packages (from requests[socks]->gdown) (2025.8.3)\n",
            "Requirement already satisfied: PySocks!=1.5.7,>=1.5.6 in /usr/local/lib/python3.12/dist-packages (from requests[socks]->gdown) (1.7.1)\n"
          ]
        }
      ]
    },
    {
      "cell_type": "code",
      "execution_count": 9,
      "metadata": {
        "scrolled": true,
        "colab": {
          "base_uri": "https://localhost:8080/",
          "height": 36
        },
        "id": "7qRUlnvPSvKC",
        "outputId": "11924b0c-ff41-4da1-870f-f0db322c18f4"
      },
      "outputs": [
        {
          "output_type": "execute_result",
          "data": {
            "text/plain": [
              "'4.3.3'"
            ],
            "application/vnd.google.colaboratory.intrinsic+json": {
              "type": "string"
            }
          },
          "metadata": {},
          "execution_count": 9
        }
      ],
      "source": [
        "import gensim\n",
        "gensim.__version__"
      ]
    },
    {
      "cell_type": "code",
      "execution_count": 7,
      "metadata": {
        "id": "LlIuUbxMSvKC"
      },
      "outputs": [],
      "source": [
        "# from gensim.models import Word2Vec\n",
        "from gensim.models import KeyedVectors"
      ]
    },
    {
      "cell_type": "code",
      "source": [
        "from pathlib import Path\n",
        "import zipfile, gdown\n",
        "file_id = \"1cuoI0G1QC-wn_5f_jqVSmRp4pT-eEmfZ\"\n",
        "\n",
        "# 저장 경로\n",
        "out_dir = Path(\"data\")\n",
        "out_dir.mkdir(parents=True, exist_ok=True)\n",
        "zip_path = out_dir / \"download.zip\"\n",
        "\n",
        "# 다운로드\n",
        "url = f\"https://drive.google.com/uc?id={file_id}\"\n",
        "gdown.download(url, str(zip_path), quiet=False)\n",
        "\n",
        "# 압축 해제\n",
        "extract_dir = out_dir\n",
        "extract_dir.mkdir(exist_ok=True)\n",
        "with zipfile.ZipFile(zip_path, \"r\") as zf:\n",
        "    zf.extractall(extract_dir)"
      ],
      "metadata": {
        "colab": {
          "base_uri": "https://localhost:8080/"
        },
        "id": "8V4m3oFdTnDz",
        "outputId": "ac241c78-cf6b-4e96-9de0-69031983c180"
      },
      "execution_count": 12,
      "outputs": [
        {
          "output_type": "stream",
          "name": "stderr",
          "text": [
            "Downloading...\n",
            "From (original): https://drive.google.com/uc?id=1cuoI0G1QC-wn_5f_jqVSmRp4pT-eEmfZ\n",
            "From (redirected): https://drive.google.com/uc?id=1cuoI0G1QC-wn_5f_jqVSmRp4pT-eEmfZ&confirm=t&uuid=fb1496f5-3ba9-4888-a291-33e53152be33\n",
            "To: /content/data/download.zip\n",
            "100%|██████████| 1.35G/1.35G [00:29<00:00, 46.5MB/s]\n"
          ]
        }
      ]
    },
    {
      "cell_type": "code",
      "execution_count": 14,
      "metadata": {
        "id": "Ayaq__SpSvKC"
      },
      "outputs": [],
      "source": [
        "kv = KeyedVectors.load_word2vec_format('./data/model.bin', binary=True)"
      ]
    },
    {
      "cell_type": "code",
      "execution_count": 15,
      "metadata": {
        "colab": {
          "base_uri": "https://localhost:8080/"
        },
        "id": "OE8e-MHWSvKC",
        "outputId": "132e6ec1-1890-4862-a94a-55048c7b223f"
      },
      "outputs": [
        {
          "output_type": "execute_result",
          "data": {
            "text/plain": [
              "[('대회의', 0.8681818842887878),\n",
              " ('선수권', 0.8605185747146606),\n",
              " ('대회에', 0.8281852006912231),\n",
              " ('대회에서', 0.8223375678062439),\n",
              " ('월드컵', 0.8110378980636597),\n",
              " ('대회가', 0.810397744178772),\n",
              " ('대회에서는', 0.8068992495536804),\n",
              " ('대회에서도', 0.8058596849441528),\n",
              " ('대회를', 0.8058363199234009),\n",
              " ('경기대회', 0.8002544641494751)]"
            ]
          },
          "metadata": {},
          "execution_count": 15
        }
      ],
      "source": [
        "sim = kv.most_similar('대회')\n",
        "sim"
      ]
    },
    {
      "cell_type": "code",
      "execution_count": 16,
      "metadata": {
        "colab": {
          "base_uri": "https://localhost:8080/"
        },
        "id": "jUU6KWyLSvKD",
        "outputId": "d5305352-bf60-4517-8335-2967fcda88a0"
      },
      "outputs": [
        {
          "output_type": "stream",
          "name": "stdout",
          "text": [
            "0.63826054\n"
          ]
        }
      ],
      "source": [
        "sim = kv.similarity('경기', '올림픽')\n",
        "print(sim)"
      ]
    },
    {
      "cell_type": "code",
      "source": [
        "!pip install konlpy"
      ],
      "metadata": {
        "colab": {
          "base_uri": "https://localhost:8080/"
        },
        "id": "oCG4njmqoRUB",
        "outputId": "090a12c2-f714-4021-f92d-5635f15ac25e"
      },
      "execution_count": 20,
      "outputs": [
        {
          "output_type": "stream",
          "name": "stdout",
          "text": [
            "Collecting konlpy\n",
            "  Downloading konlpy-0.6.0-py2.py3-none-any.whl.metadata (1.9 kB)\n",
            "Collecting JPype1>=0.7.0 (from konlpy)\n",
            "  Downloading jpype1-1.6.0-cp312-cp312-manylinux2014_x86_64.manylinux_2_17_x86_64.whl.metadata (5.0 kB)\n",
            "Requirement already satisfied: lxml>=4.1.0 in /usr/local/lib/python3.12/dist-packages (from konlpy) (5.4.0)\n",
            "Requirement already satisfied: numpy>=1.6 in /usr/local/lib/python3.12/dist-packages (from konlpy) (1.26.4)\n",
            "Requirement already satisfied: packaging in /usr/local/lib/python3.12/dist-packages (from JPype1>=0.7.0->konlpy) (25.0)\n",
            "Downloading konlpy-0.6.0-py2.py3-none-any.whl (19.4 MB)\n",
            "\u001b[2K   \u001b[90m━━━━━━━━━━━━━━━━━━━━━━━━━━━━━━━━━━━━━━━━\u001b[0m \u001b[32m19.4/19.4 MB\u001b[0m \u001b[31m104.2 MB/s\u001b[0m eta \u001b[36m0:00:00\u001b[0m\n",
            "\u001b[?25hDownloading jpype1-1.6.0-cp312-cp312-manylinux2014_x86_64.manylinux_2_17_x86_64.whl (495 kB)\n",
            "\u001b[2K   \u001b[90m━━━━━━━━━━━━━━━━━━━━━━━━━━━━━━━━━━━━━━━━\u001b[0m \u001b[32m495.9/495.9 kB\u001b[0m \u001b[31m37.9 MB/s\u001b[0m eta \u001b[36m0:00:00\u001b[0m\n",
            "\u001b[?25hInstalling collected packages: JPype1, konlpy\n",
            "Successfully installed JPype1-1.6.0 konlpy-0.6.0\n"
          ]
        }
      ]
    },
    {
      "cell_type": "code",
      "source": [
        "from konlpy.tag import Okt\n",
        "okt = Okt()"
      ],
      "metadata": {
        "id": "ayeP_x7QoTl4"
      },
      "execution_count": 21,
      "outputs": []
    },
    {
      "cell_type": "code",
      "execution_count": 22,
      "metadata": {
        "colab": {
          "base_uri": "https://localhost:8080/"
        },
        "id": "P50AYz0fSvKF",
        "outputId": "c3097d54-17c3-4008-ddc8-892c33debb54"
      },
      "outputs": [
        {
          "output_type": "stream",
          "name": "stdout",
          "text": [
            "[('충전기', 0.823433518409729), ('베터리', 0.8037347197532654), ('충전', 0.7943413853645325), ('리튬', 0.791627049446106), ('마판', 0.7793197631835938), ('건전지', 0.7787209153175354), ('리튬이온', 0.7773483395576477), ('전지', 0.7672342658042908), ('전력', 0.7670044898986816), ('방진', 0.7388010025024414)]\n"
          ]
        }
      ],
      "source": [
        "TOP_N = 200_000\n",
        "cands = kv.index_to_key[:TOP_N]\n",
        "\n",
        "def is_noun_token(word: str) -> bool:\n",
        "    tags = okt.pos(word, norm=False, stem=False)\n",
        "    return len(tags) > 0 and all(t[1].startswith('N') for t in tags)\n",
        "\n",
        "noun_vocab = [w for w in cands if is_noun_token(w)]\n",
        "\n",
        "# 명사만 담은 KeyedVectors 생성\n",
        "noun_kv = KeyedVectors(vector_size=kv.vector_size)\n",
        "noun_kv.add_vectors(noun_vocab, [kv[w] for w in noun_vocab])\n",
        "\n",
        "# 저장해두고 재사용\n",
        "noun_kv.save(\"ko_noun_only.kv\")\n",
        "\n",
        "# 사용 예시\n",
        "print(noun_kv.most_similar(\"배터리\"))"
      ]
    },
    {
      "cell_type": "code",
      "source": [],
      "metadata": {
        "id": "WcKYIKePoL76"
      },
      "execution_count": null,
      "outputs": []
    }
  ],
  "metadata": {
    "kernelspec": {
      "display_name": "Python 3",
      "language": "python",
      "name": "python3"
    },
    "language_info": {
      "codemirror_mode": {
        "name": "ipython",
        "version": 3
      },
      "file_extension": ".py",
      "mimetype": "text/x-python",
      "name": "python",
      "nbconvert_exporter": "python",
      "pygments_lexer": "ipython3",
      "version": "3.8.8"
    },
    "colab": {
      "provenance": []
    }
  },
  "nbformat": 4,
  "nbformat_minor": 0
}