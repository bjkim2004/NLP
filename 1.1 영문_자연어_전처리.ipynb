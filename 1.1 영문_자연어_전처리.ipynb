{
  "cells": [
    {
      "cell_type": "markdown",
      "metadata": {
        "id": "SLhpPfvvjcSq"
      },
      "source": [
        "### 영문 자연어 전처리"
      ]
    },
    {
      "cell_type": "markdown",
      "metadata": {
        "id": "3PRCYptgjcSs"
      },
      "source": [
        "---"
      ]
    },
    {
      "cell_type": "code",
      "execution_count": 10,
      "metadata": {
        "id": "aWozyaUdjcSt"
      },
      "outputs": [],
      "source": [
        "text = \"\"\"Beneath it were the words: \"Stay Hungry. Stay Foolish.\" It was their farewell message\n",
        "as they signed off. Stay Hungry. Stay Foolish. And I have always wished that for myself. And now, as\n",
        "you graduate to begin a new, I wish that for you.\"\"\""
      ]
    },
    {
      "cell_type": "markdown",
      "metadata": {
        "id": "yhctdz-3jcSu"
      },
      "source": [
        "---"
      ]
    },
    {
      "cell_type": "markdown",
      "metadata": {
        "id": "gO7ZHuQhjcSu"
      },
      "source": [
        "#### 정제(Cleaning)"
      ]
    },
    {
      "cell_type": "markdown",
      "metadata": {
        "id": "U1pvvQnKlFcr"
      },
      "source": [
        "#### 특수문자 제거"
      ]
    },
    {
      "cell_type": "code",
      "execution_count": 11,
      "metadata": {
        "colab": {
          "base_uri": "https://localhost:8080/"
        },
        "id": "uOaIuv0ojcSu",
        "outputId": "4c8b04f2-d399-459e-9f12-7816022602a1"
      },
      "outputs": [
        {
          "output_type": "stream",
          "name": "stdout",
          "text": [
            "!\"#$%&'()*+,-./:;<=>?@[\\]^_`{|}~\n"
          ]
        }
      ],
      "source": [
        "import string\n",
        "\n",
        "print(string.punctuation)"
      ]
    },
    {
      "cell_type": "code",
      "execution_count": 12,
      "metadata": {
        "colab": {
          "base_uri": "https://localhost:8080/"
        },
        "id": "3HFRYCnIxh91",
        "outputId": "339cebd8-a4b7-4863-cc8b-1ea42c1ea633"
      },
      "outputs": [
        {
          "output_type": "stream",
          "name": "stdout",
          "text": [
            "Beneath it were the words Stay Hungry. Stay Foolish. It was their farewell message \n",
            "as they signed off. Stay Hungry. Stay Foolish. And I have always wished that for myself. And now as \n",
            "you graduate to begin a new I wish that for you.\n"
          ]
        },
        {
          "output_type": "stream",
          "name": "stderr",
          "text": [
            "<>:3: SyntaxWarning: invalid escape sequence '\\w'\n",
            "<>:3: SyntaxWarning: invalid escape sequence '\\w'\n",
            "/tmp/ipython-input-407281920.py:3: SyntaxWarning: invalid escape sequence '\\w'\n",
            "  cleaned_text = re.sub('[^\\w\\.\\s]','',text)\n"
          ]
        }
      ],
      "source": [
        "import re\n",
        "\n",
        "cleaned_text = re.sub('[^\\w\\.\\s]','',text)\n",
        "print(cleaned_text)"
      ]
    },
    {
      "cell_type": "code",
      "execution_count": 13,
      "metadata": {
        "colab": {
          "base_uri": "https://localhost:8080/"
        },
        "id": "-j3sXlkojcSv",
        "outputId": "e1c1381e-8c2e-4cf5-aff1-af5911c148ef"
      },
      "outputs": [
        {
          "output_type": "stream",
          "name": "stdout",
          "text": [
            "Beneath it were the words Stay Hungry. Stay Foolish. It was their farewell message as they signed off. Stay Hungry. Stay Foolish. And I have always wished that for myself. And now as you graduate to begin a new I wish that for you.\n"
          ]
        }
      ],
      "source": [
        "cleaned_text = re.sub('\\n','',cleaned_text)\n",
        "print(cleaned_text)"
      ]
    },
    {
      "cell_type": "markdown",
      "metadata": {
        "id": "DRB_lPh_jcSw"
      },
      "source": [
        "---"
      ]
    },
    {
      "cell_type": "markdown",
      "metadata": {
        "id": "bY3v5NP7jcSx"
      },
      "source": [
        "#### 토큰화(Tokenization)"
      ]
    },
    {
      "cell_type": "code",
      "execution_count": 14,
      "metadata": {
        "colab": {
          "base_uri": "https://localhost:8080/"
        },
        "id": "QCas0dZe2aFV",
        "outputId": "111f0613-0398-4ff3-d164-5c526e3c13b1"
      },
      "outputs": [
        {
          "output_type": "stream",
          "name": "stderr",
          "text": [
            "[nltk_data] Downloading package punkt to /root/nltk_data...\n",
            "[nltk_data]   Package punkt is already up-to-date!\n",
            "[nltk_data] Downloading package punkt_tab to /root/nltk_data...\n",
            "[nltk_data]   Unzipping tokenizers/punkt_tab.zip.\n"
          ]
        },
        {
          "output_type": "execute_result",
          "data": {
            "text/plain": [
              "True"
            ]
          },
          "metadata": {},
          "execution_count": 14
        }
      ],
      "source": [
        "import nltk\n",
        "nltk.download('punkt')\n",
        "nltk.download('punkt_tab')"
      ]
    },
    {
      "cell_type": "code",
      "execution_count": 15,
      "metadata": {
        "colab": {
          "base_uri": "https://localhost:8080/"
        },
        "id": "l2FvzLJAjcSx",
        "outputId": "68943a3f-3da7-4d03-da83-d26189760b38"
      },
      "outputs": [
        {
          "output_type": "stream",
          "name": "stdout",
          "text": [
            "['Beneath it were the words Stay Hungry.', 'Stay Foolish.', 'It was their farewell message as they signed off.', 'Stay Hungry.', 'Stay Foolish.', 'And I have always wished that for myself.', 'And now as you graduate to begin a new I wish that for you.']\n"
          ]
        }
      ],
      "source": [
        "sent_tokens = nltk.sent_tokenize(cleaned_text)\n",
        "print(sent_tokens)"
      ]
    },
    {
      "cell_type": "code",
      "execution_count": 16,
      "metadata": {
        "colab": {
          "base_uri": "https://localhost:8080/"
        },
        "id": "HqMG_lIwjcSy",
        "outputId": "8b3cdb42-72e2-45d7-d207-fe60e0c28c1d",
        "scrolled": true
      },
      "outputs": [
        {
          "output_type": "execute_result",
          "data": {
            "text/plain": [
              "['Beneath',\n",
              " 'it',\n",
              " 'were',\n",
              " 'the',\n",
              " 'words',\n",
              " 'Stay',\n",
              " 'Hungry',\n",
              " '.',\n",
              " 'Stay',\n",
              " 'Foolish',\n",
              " '.',\n",
              " 'It',\n",
              " 'was',\n",
              " 'their',\n",
              " 'farewell',\n",
              " 'message',\n",
              " 'as',\n",
              " 'they',\n",
              " 'signed',\n",
              " 'off',\n",
              " '.',\n",
              " 'Stay',\n",
              " 'Hungry',\n",
              " '.',\n",
              " 'Stay',\n",
              " 'Foolish',\n",
              " '.',\n",
              " 'And',\n",
              " 'I',\n",
              " 'have',\n",
              " 'always',\n",
              " 'wished',\n",
              " 'that',\n",
              " 'for',\n",
              " 'myself',\n",
              " '.',\n",
              " 'And',\n",
              " 'now',\n",
              " 'as',\n",
              " 'you',\n",
              " 'graduate',\n",
              " 'to',\n",
              " 'begin',\n",
              " 'a',\n",
              " 'new',\n",
              " 'I',\n",
              " 'wish',\n",
              " 'that',\n",
              " 'for',\n",
              " 'you',\n",
              " '.']"
            ]
          },
          "metadata": {},
          "execution_count": 16
        }
      ],
      "source": [
        "tokens = nltk.word_tokenize(cleaned_text)\n",
        "tokens"
      ]
    },
    {
      "cell_type": "markdown",
      "metadata": {
        "id": "OFEt8nqOjcSy"
      },
      "source": [
        "---"
      ]
    },
    {
      "cell_type": "markdown",
      "metadata": {
        "id": "OIFY_mCxjcSy"
      },
      "source": [
        "#### 불용어 제거(Stopword Elimination)"
      ]
    },
    {
      "cell_type": "code",
      "execution_count": 17,
      "metadata": {
        "colab": {
          "base_uri": "https://localhost:8080/"
        },
        "id": "U1_yDQIY2Vee",
        "outputId": "59569a42-08fa-4bc0-83fb-3fa10daabfbf"
      },
      "outputs": [
        {
          "output_type": "stream",
          "name": "stderr",
          "text": [
            "[nltk_data] Downloading package stopwords to /root/nltk_data...\n",
            "[nltk_data]   Unzipping corpora/stopwords.zip.\n"
          ]
        },
        {
          "output_type": "execute_result",
          "data": {
            "text/plain": [
              "True"
            ]
          },
          "metadata": {},
          "execution_count": 17
        }
      ],
      "source": [
        "nltk.download('stopwords')"
      ]
    },
    {
      "cell_type": "code",
      "execution_count": 18,
      "metadata": {
        "colab": {
          "base_uri": "https://localhost:8080/"
        },
        "id": "u2gQ9OEz624F",
        "outputId": "ce90198a-dcc7-4150-c368-15a5681886f9"
      },
      "outputs": [
        {
          "output_type": "stream",
          "name": "stdout",
          "text": [
            "['a', 'about', 'above', 'after', 'again', 'against', 'ain', 'all', 'am', 'an', 'and', 'any', 'are', 'aren', \"aren't\", 'as', 'at', 'be', 'because', 'been', 'before', 'being', 'below', 'between', 'both', 'but', 'by', 'can', 'couldn', \"couldn't\", 'd', 'did', 'didn', \"didn't\", 'do', 'does', 'doesn', \"doesn't\", 'doing', 'don', \"don't\", 'down', 'during', 'each', 'few', 'for', 'from', 'further', 'had', 'hadn', \"hadn't\", 'has', 'hasn', \"hasn't\", 'have', 'haven', \"haven't\", 'having', 'he', \"he'd\", \"he'll\", 'her', 'here', 'hers', 'herself', \"he's\", 'him', 'himself', 'his', 'how', 'i', \"i'd\", 'if', \"i'll\", \"i'm\", 'in', 'into', 'is', 'isn', \"isn't\", 'it', \"it'd\", \"it'll\", \"it's\", 'its', 'itself', \"i've\", 'just', 'll', 'm', 'ma', 'me', 'mightn', \"mightn't\", 'more', 'most', 'mustn', \"mustn't\", 'my', 'myself', 'needn', \"needn't\", 'no', 'nor', 'not', 'now', 'o', 'of', 'off', 'on', 'once', 'only', 'or', 'other', 'our', 'ours', 'ourselves', 'out', 'over', 'own', 're', 's', 'same', 'shan', \"shan't\", 'she', \"she'd\", \"she'll\", \"she's\", 'should', 'shouldn', \"shouldn't\", \"should've\", 'so', 'some', 'such', 't', 'than', 'that', \"that'll\", 'the', 'their', 'theirs', 'them', 'themselves', 'then', 'there', 'these', 'they', \"they'd\", \"they'll\", \"they're\", \"they've\", 'this', 'those', 'through', 'to', 'too', 'under', 'until', 'up', 've', 'very', 'was', 'wasn', \"wasn't\", 'we', \"we'd\", \"we'll\", \"we're\", 'were', 'weren', \"weren't\", \"we've\", 'what', 'when', 'where', 'which', 'while', 'who', 'whom', 'why', 'will', 'with', 'won', \"won't\", 'wouldn', \"wouldn't\", 'y', 'you', \"you'd\", \"you'll\", 'your', \"you're\", 'yours', 'yourself', 'yourselves', \"you've\"]\n"
          ]
        }
      ],
      "source": [
        "from nltk.corpus import stopwords\n",
        "stop = stopwords.words('english')\n",
        "print(stop)"
      ]
    },
    {
      "cell_type": "code",
      "execution_count": 19,
      "metadata": {
        "colab": {
          "base_uri": "https://localhost:8080/"
        },
        "id": "N6WUZb9jjcSz",
        "outputId": "af28a429-bfb6-489f-8835-db7cd438c72b"
      },
      "outputs": [
        {
          "output_type": "stream",
          "name": "stdout",
          "text": [
            "['Beneath', 'words', 'Stay', 'Hungry', '.', 'Stay', 'Foolish', '.', 'It', 'farewell', 'message', 'signed', '.', 'Stay', 'Hungry', '.', 'Stay', 'Foolish', '.', 'And', 'I', 'always', 'wished', '.', 'And', 'graduate', 'begin', 'new', 'I', 'wish', '.']\n"
          ]
        }
      ],
      "source": [
        "tokens = [token for token in tokens if token not in stop]\n",
        "print(tokens)"
      ]
    },
    {
      "cell_type": "code",
      "execution_count": 20,
      "metadata": {
        "colab": {
          "base_uri": "https://localhost:8080/"
        },
        "id": "JL-nQjHQjcSz",
        "outputId": "689503bb-7537-4ff5-dbf5-8419aff32d06"
      },
      "outputs": [
        {
          "output_type": "stream",
          "name": "stdout",
          "text": [
            "['Beneath', 'words', 'Stay', 'Hungry', 'Stay', 'Foolish', 'farewell', 'message', 'signed', 'Stay', 'Hungry', 'Stay', 'Foolish', 'And', 'always', 'wished', 'And', 'graduate', 'begin', 'new', 'wish']\n"
          ]
        }
      ],
      "source": [
        "tokens = [token for token in tokens if len(token) >= 3]\n",
        "print(tokens)"
      ]
    },
    {
      "cell_type": "markdown",
      "metadata": {
        "id": "eFKUFYLvjcSz"
      },
      "source": [
        "---"
      ]
    },
    {
      "cell_type": "markdown",
      "metadata": {
        "id": "Rw6mcf0vjcS0"
      },
      "source": [
        "#### 소문자화(lower capitalization)"
      ]
    },
    {
      "cell_type": "code",
      "execution_count": 21,
      "metadata": {
        "colab": {
          "base_uri": "https://localhost:8080/"
        },
        "id": "iNCEnSFojcS0",
        "outputId": "ff557eab-a10a-4237-ca5c-f539d50ef947"
      },
      "outputs": [
        {
          "output_type": "stream",
          "name": "stdout",
          "text": [
            "소문자화 수행전 :  ['Beneath', 'words', 'Stay', 'Hungry', 'Stay', 'Foolish', 'farewell', 'message', 'signed', 'Stay', 'Hungry', 'Stay', 'Foolish', 'And', 'always', 'wished', 'And', 'graduate', 'begin', 'new', 'wish']\n",
            "소문자화 수행후 :  ['beneath', 'words', 'stay', 'hungry', 'stay', 'foolish', 'farewell', 'message', 'signed', 'stay', 'hungry', 'stay', 'foolish', 'and', 'always', 'wished', 'and', 'graduate', 'begin', 'new', 'wish']\n"
          ]
        }
      ],
      "source": [
        "print('소문자화 수행전 : ', tokens)\n",
        "tokens = [token.lower() for token in tokens]\n",
        "print('소문자화 수행후 : ', tokens)"
      ]
    },
    {
      "cell_type": "code",
      "execution_count": 21,
      "metadata": {
        "id": "ObyG1jF39h-E"
      },
      "outputs": [],
      "source": []
    }
  ],
  "metadata": {
    "colab": {
      "provenance": []
    },
    "kernelspec": {
      "display_name": "Python 3",
      "language": "python",
      "name": "python3"
    },
    "language_info": {
      "codemirror_mode": {
        "name": "ipython",
        "version": 3
      },
      "file_extension": ".py",
      "mimetype": "text/x-python",
      "name": "python",
      "nbconvert_exporter": "python",
      "pygments_lexer": "ipython3",
      "version": "3.8.3"
    }
  },
  "nbformat": 4,
  "nbformat_minor": 0
}