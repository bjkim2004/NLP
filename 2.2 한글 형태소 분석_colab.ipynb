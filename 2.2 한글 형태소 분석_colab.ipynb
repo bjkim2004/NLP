{
  "nbformat": 4,
  "nbformat_minor": 0,
  "metadata": {
    "colab": {
      "provenance": []
    },
    "kernelspec": {
      "name": "python3",
      "display_name": "Python 3"
    },
    "language_info": {
      "name": "python"
    }
  },
  "cells": [
    {
      "cell_type": "markdown",
      "source": [
        "### 리눅스 Colab Mecab 설치"
      ],
      "metadata": {
        "id": "sZPXztCsLPRc"
      }
    },
    {
      "cell_type": "code",
      "source": [
        "!pip install konlpy\n",
        "# Mecab 설치\n",
        "!git clone https://github.com/SOMJANG/Mecab-ko-for-Google-Colab.git\n",
        "%cd Mecab-ko-for-Google-Colab\n",
        "!bash install_mecab-ko_on_colab_light_220429.sh\n",
        "%cd .."
      ],
      "metadata": {
        "id": "Rca3LFo6LNoT"
      },
      "execution_count": null,
      "outputs": []
    },
    {
      "cell_type": "markdown",
      "source": [
        "### 구글 드라이브 파일 다운"
      ],
      "metadata": {
        "id": "IebvEpvbLYIJ"
      }
    },
    {
      "cell_type": "code",
      "source": [
        "import gdown\n",
        "\n",
        "file_id = '1pKfHg1gmEpSr3YvEdf-oeIAwOJ37JYE5'\n",
        "output_path = 'downloaded_text_file.txt'\n",
        "\n",
        "\n",
        "gdown.download(f'https://drive.google.com/uc?id={file_id}', output_path, quiet=False)\n",
        "\n",
        "with open(output_path, 'r', encoding='utf-8') as f:\n",
        "    text_content = f.read()\n",
        "    print(\"Downloaded text content:\")\n",
        "    print(text_content)\n"
      ],
      "metadata": {
        "id": "xA0valM6cW4b",
        "collapsed": true
      },
      "execution_count": null,
      "outputs": []
    },
    {
      "cell_type": "markdown",
      "source": [
        "### 특수문자 제거"
      ],
      "metadata": {
        "id": "BOWxV3f6LfYN"
      }
    },
    {
      "cell_type": "code",
      "source": [
        "import re\n",
        "\n",
        "# 특수문자 제거 및 여러 개의 공백을 하나로 만듦\n",
        "cleaned_text = re.sub(r'[^가-힣\\s\\.]', '', text_content)\n",
        "cleaned_text = re.sub(r'\\s+', ' ', cleaned_text)\n",
        "print(cleaned_text)"
      ],
      "metadata": {
        "collapsed": true,
        "id": "6LPZkTFIcsof"
      },
      "execution_count": null,
      "outputs": []
    },
    {
      "cell_type": "markdown",
      "source": [
        "### 형태소 분석"
      ],
      "metadata": {
        "id": "Db3Ffkr3Ljno"
      }
    },
    {
      "cell_type": "code",
      "source": [
        "from konlpy.tag import Mecab\n",
        "\n",
        "# Mecab 형태소 분석기 인스턴스 생성\n",
        "mecab = Mecab()\n",
        "\n",
        "# 텍스트를 형태소 단위로 분리하고 품사 태깅\n",
        "tagged_list = mecab.pos(cleaned_text)\n",
        "print(tagged_list[:100])\n"
      ],
      "metadata": {
        "id": "3pRqcFTlcxCU",
        "collapsed": true
      },
      "execution_count": null,
      "outputs": []
    },
    {
      "cell_type": "markdown",
      "source": [
        "### 불용어 처리"
      ],
      "metadata": {
        "id": "r0GmOXWhK7wY"
      }
    },
    {
      "cell_type": "code",
      "source": [
        "# 불용어 정의 (조사, 어미 등)\n",
        "stopwords_korean = ['은', '는', '이', '가', '을', '를', '의', '에', '와', '과', '에게', '에서', '으로', '로', '고', '다', '습니다', '는군요', '아', '어요', '지요']\n",
        "\n",
        "tokens = [ word[0] for word in tagged_list if word[0] not in stopwords_korean]\n",
        "\n",
        "print(tokens)"
      ],
      "metadata": {
        "id": "9vP3zbUrnyO-",
        "collapsed": true
      },
      "execution_count": null,
      "outputs": []
    },
    {
      "cell_type": "code",
      "source": [
        "tokens = [token for token in tokens if len(token) >= 2]\n",
        "print(tokens)"
      ],
      "metadata": {
        "id": "mLi6whnLtLZi",
        "collapsed": true
      },
      "execution_count": null,
      "outputs": []
    },
    {
      "cell_type": "markdown",
      "source": [
        "### 한글 전용 matplolib, Font 설치"
      ],
      "metadata": {
        "id": "NSJH5tTnKhM4"
      }
    },
    {
      "cell_type": "code",
      "source": [
        "!pip install koreanize_matplotlib\n",
        "!apt-get update -qq\n",
        "!apt-get install -y fonts-nanum"
      ],
      "metadata": {
        "id": "hfyQJcH8pja3",
        "collapsed": true
      },
      "execution_count": null,
      "outputs": []
    },
    {
      "cell_type": "markdown",
      "source": [
        "### 워드 크라우드 출력"
      ],
      "metadata": {
        "id": "U-GTFJlAKpKh"
      }
    },
    {
      "cell_type": "code",
      "source": [
        "from wordcloud import WordCloud\n",
        "import matplotlib.pyplot as plt\n",
        "import koreanize_matplotlib\n",
        "\n",
        "text = \" \".join(tokens)\n",
        "font_path = '/usr/share/fonts/truetype/nanum/NanumGothic.ttf'\n",
        "wordcloud = WordCloud(\n",
        "    font_path=font_path,\n",
        "    width=2000,\n",
        "    height=1000,\n",
        "    background_color=\"white\"\n",
        ").generate(text)\n",
        "\n",
        "plt.figure(figsize=(10, 5))\n",
        "plt.imshow(wordcloud, interpolation='bilinear')\n",
        "plt.axis(\"off\")\n",
        "plt.show()"
      ],
      "metadata": {
        "id": "zLv0JsfPorT0"
      },
      "execution_count": null,
      "outputs": []
    },
    {
      "cell_type": "code",
      "source": [],
      "metadata": {
        "id": "EyvSYimWs4vs"
      },
      "execution_count": null,
      "outputs": []
    }
  ]
}