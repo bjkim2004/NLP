{
  "nbformat": 4,
  "nbformat_minor": 0,
  "metadata": {
    "colab": {
      "provenance": []
    },
    "kernelspec": {
      "name": "python3",
      "display_name": "Python 3"
    },
    "language_info": {
      "name": "python"
    }
  },
  "cells": [
    {
      "cell_type": "code",
      "execution_count": 1,
      "metadata": {
        "id": "noA83WcHLWJw"
      },
      "outputs": [],
      "source": [
        "# !pip install update pandas"
      ]
    },
    {
      "cell_type": "code",
      "source": [
        "# !pip install scikit-learn konlpy pyLDAvis"
      ],
      "metadata": {
        "id": "V7MFtPAeLYZO"
      },
      "execution_count": 2,
      "outputs": []
    },
    {
      "cell_type": "code",
      "source": [
        "import pandas as pd\n",
        "import re\n",
        "from sklearn.feature_extraction.text import TfidfVectorizer\n",
        "from sklearn.decomposition import LatentDirichletAllocation\n",
        "import pyLDAvis\n",
        "import pyLDAvis.lda_model\n",
        "import warnings\n",
        "warnings.filterwarnings('ignore')\n",
        "\n",
        "from konlpy.tag import Okt\n"
      ],
      "metadata": {
        "id": "eLavzcoQLYjj"
      },
      "execution_count": 3,
      "outputs": []
    },
    {
      "cell_type": "code",
      "source": [
        "from google.colab import files\n",
        "import os\n",
        "\n",
        "data_dir = 'data'\n",
        "\n",
        "if not os.path.exists(data_dir):\n",
        "    os.mkdir(data_dir)\n",
        "os.chdir(data_dir)\n",
        "files.upload()\n",
        "os.chdir('..')"
      ],
      "metadata": {
        "colab": {
          "base_uri": "https://localhost:8080/",
          "height": 77
        },
        "id": "JMBYsKiceINu",
        "outputId": "f19097dd-87d2-4459-ab9c-07a0f6f9ce7a"
      },
      "execution_count": 4,
      "outputs": [
        {
          "output_type": "display_data",
          "data": {
            "text/plain": [
              "<IPython.core.display.HTML object>"
            ],
            "text/html": [
              "\n",
              "     <input type=\"file\" id=\"files-725b0e06-bdda-4e0b-9148-ecb8705c46b7\" name=\"files[]\" multiple disabled\n",
              "        style=\"border:none\" />\n",
              "     <output id=\"result-725b0e06-bdda-4e0b-9148-ecb8705c46b7\">\n",
              "      Upload widget is only available when the cell has been executed in the\n",
              "      current browser session. Please rerun this cell to enable.\n",
              "      </output>\n",
              "      <script>// Copyright 2017 Google LLC\n",
              "//\n",
              "// Licensed under the Apache License, Version 2.0 (the \"License\");\n",
              "// you may not use this file except in compliance with the License.\n",
              "// You may obtain a copy of the License at\n",
              "//\n",
              "//      http://www.apache.org/licenses/LICENSE-2.0\n",
              "//\n",
              "// Unless required by applicable law or agreed to in writing, software\n",
              "// distributed under the License is distributed on an \"AS IS\" BASIS,\n",
              "// WITHOUT WARRANTIES OR CONDITIONS OF ANY KIND, either express or implied.\n",
              "// See the License for the specific language governing permissions and\n",
              "// limitations under the License.\n",
              "\n",
              "/**\n",
              " * @fileoverview Helpers for google.colab Python module.\n",
              " */\n",
              "(function(scope) {\n",
              "function span(text, styleAttributes = {}) {\n",
              "  const element = document.createElement('span');\n",
              "  element.textContent = text;\n",
              "  for (const key of Object.keys(styleAttributes)) {\n",
              "    element.style[key] = styleAttributes[key];\n",
              "  }\n",
              "  return element;\n",
              "}\n",
              "\n",
              "// Max number of bytes which will be uploaded at a time.\n",
              "const MAX_PAYLOAD_SIZE = 100 * 1024;\n",
              "\n",
              "function _uploadFiles(inputId, outputId) {\n",
              "  const steps = uploadFilesStep(inputId, outputId);\n",
              "  const outputElement = document.getElementById(outputId);\n",
              "  // Cache steps on the outputElement to make it available for the next call\n",
              "  // to uploadFilesContinue from Python.\n",
              "  outputElement.steps = steps;\n",
              "\n",
              "  return _uploadFilesContinue(outputId);\n",
              "}\n",
              "\n",
              "// This is roughly an async generator (not supported in the browser yet),\n",
              "// where there are multiple asynchronous steps and the Python side is going\n",
              "// to poll for completion of each step.\n",
              "// This uses a Promise to block the python side on completion of each step,\n",
              "// then passes the result of the previous step as the input to the next step.\n",
              "function _uploadFilesContinue(outputId) {\n",
              "  const outputElement = document.getElementById(outputId);\n",
              "  const steps = outputElement.steps;\n",
              "\n",
              "  const next = steps.next(outputElement.lastPromiseValue);\n",
              "  return Promise.resolve(next.value.promise).then((value) => {\n",
              "    // Cache the last promise value to make it available to the next\n",
              "    // step of the generator.\n",
              "    outputElement.lastPromiseValue = value;\n",
              "    return next.value.response;\n",
              "  });\n",
              "}\n",
              "\n",
              "/**\n",
              " * Generator function which is called between each async step of the upload\n",
              " * process.\n",
              " * @param {string} inputId Element ID of the input file picker element.\n",
              " * @param {string} outputId Element ID of the output display.\n",
              " * @return {!Iterable<!Object>} Iterable of next steps.\n",
              " */\n",
              "function* uploadFilesStep(inputId, outputId) {\n",
              "  const inputElement = document.getElementById(inputId);\n",
              "  inputElement.disabled = false;\n",
              "\n",
              "  const outputElement = document.getElementById(outputId);\n",
              "  outputElement.innerHTML = '';\n",
              "\n",
              "  const pickedPromise = new Promise((resolve) => {\n",
              "    inputElement.addEventListener('change', (e) => {\n",
              "      resolve(e.target.files);\n",
              "    });\n",
              "  });\n",
              "\n",
              "  const cancel = document.createElement('button');\n",
              "  inputElement.parentElement.appendChild(cancel);\n",
              "  cancel.textContent = 'Cancel upload';\n",
              "  const cancelPromise = new Promise((resolve) => {\n",
              "    cancel.onclick = () => {\n",
              "      resolve(null);\n",
              "    };\n",
              "  });\n",
              "\n",
              "  // Wait for the user to pick the files.\n",
              "  const files = yield {\n",
              "    promise: Promise.race([pickedPromise, cancelPromise]),\n",
              "    response: {\n",
              "      action: 'starting',\n",
              "    }\n",
              "  };\n",
              "\n",
              "  cancel.remove();\n",
              "\n",
              "  // Disable the input element since further picks are not allowed.\n",
              "  inputElement.disabled = true;\n",
              "\n",
              "  if (!files) {\n",
              "    return {\n",
              "      response: {\n",
              "        action: 'complete',\n",
              "      }\n",
              "    };\n",
              "  }\n",
              "\n",
              "  for (const file of files) {\n",
              "    const li = document.createElement('li');\n",
              "    li.append(span(file.name, {fontWeight: 'bold'}));\n",
              "    li.append(span(\n",
              "        `(${file.type || 'n/a'}) - ${file.size} bytes, ` +\n",
              "        `last modified: ${\n",
              "            file.lastModifiedDate ? file.lastModifiedDate.toLocaleDateString() :\n",
              "                                    'n/a'} - `));\n",
              "    const percent = span('0% done');\n",
              "    li.appendChild(percent);\n",
              "\n",
              "    outputElement.appendChild(li);\n",
              "\n",
              "    const fileDataPromise = new Promise((resolve) => {\n",
              "      const reader = new FileReader();\n",
              "      reader.onload = (e) => {\n",
              "        resolve(e.target.result);\n",
              "      };\n",
              "      reader.readAsArrayBuffer(file);\n",
              "    });\n",
              "    // Wait for the data to be ready.\n",
              "    let fileData = yield {\n",
              "      promise: fileDataPromise,\n",
              "      response: {\n",
              "        action: 'continue',\n",
              "      }\n",
              "    };\n",
              "\n",
              "    // Use a chunked sending to avoid message size limits. See b/62115660.\n",
              "    let position = 0;\n",
              "    do {\n",
              "      const length = Math.min(fileData.byteLength - position, MAX_PAYLOAD_SIZE);\n",
              "      const chunk = new Uint8Array(fileData, position, length);\n",
              "      position += length;\n",
              "\n",
              "      const base64 = btoa(String.fromCharCode.apply(null, chunk));\n",
              "      yield {\n",
              "        response: {\n",
              "          action: 'append',\n",
              "          file: file.name,\n",
              "          data: base64,\n",
              "        },\n",
              "      };\n",
              "\n",
              "      let percentDone = fileData.byteLength === 0 ?\n",
              "          100 :\n",
              "          Math.round((position / fileData.byteLength) * 100);\n",
              "      percent.textContent = `${percentDone}% done`;\n",
              "\n",
              "    } while (position < fileData.byteLength);\n",
              "  }\n",
              "\n",
              "  // All done.\n",
              "  yield {\n",
              "    response: {\n",
              "      action: 'complete',\n",
              "    }\n",
              "  };\n",
              "}\n",
              "\n",
              "scope.google = scope.google || {};\n",
              "scope.google.colab = scope.google.colab || {};\n",
              "scope.google.colab._files = {\n",
              "  _uploadFiles,\n",
              "  _uploadFilesContinue,\n",
              "};\n",
              "})(self);\n",
              "</script> "
            ]
          },
          "metadata": {}
        },
        {
          "output_type": "stream",
          "name": "stdout",
          "text": [
            "Saving news.csv to news.csv\n"
          ]
        }
      ]
    },
    {
      "cell_type": "code",
      "source": [
        "okt = Okt()\n",
        "df = pd.read_csv('./data/news.csv')\n",
        "\n",
        "\n",
        "print(f\"Loaded {len(df)} news articles.\")"
      ],
      "metadata": {
        "colab": {
          "base_uri": "https://localhost:8080/"
        },
        "id": "4r285uffd_5e",
        "outputId": "b0826d1f-87df-46b7-ac1d-3b793e57087a"
      },
      "execution_count": 6,
      "outputs": [
        {
          "output_type": "stream",
          "name": "stdout",
          "text": [
            "Loaded 1600 news articles.\n"
          ]
        }
      ]
    },
    {
      "cell_type": "code",
      "source": [
        "# 한국어 전처리 함수\n",
        "def preprocess_korean(text):\n",
        "    if pd.isna(text):\n",
        "        return \"\"\n",
        "    # 기본: 특수문자, 숫자, 영어 제거 (형태소 분석 없이)\n",
        "    text = re.sub(r'[^가-힣\\s]', ' ', text)  # 한글과 공백만 유지\n",
        "    text = re.sub(r'\\s+', ' ', text).strip()  # 다중 공백 제거\n",
        "\n",
        "    # 형태소 분석: 명사 추출\n",
        "    tokens = okt.nouns(text)\n",
        "    # 불용어 제거 (간단한 한국어 불용어 리스트)\n",
        "    stopwords_kr = {'것', '수', '이', '가', '를', '을', '에', '의', '와', '과', '로', '으로', '에서', '이다', '되다', '있다', '하다', '않다'}\n",
        "    tokens = [word for word in tokens if len(word) > 1 and word not in stopwords_kr]\n",
        "    return ' '.join(tokens)\n",
        "\n",
        "# 데이터 전처리\n",
        "df['processed_news'] = df['news'].apply(preprocess_korean)\n",
        "processed_data = df['processed_news'] #.tolist()"
      ],
      "metadata": {
        "id": "6y7wrJyUMVOx"
      },
      "execution_count": 7,
      "outputs": []
    },
    {
      "cell_type": "code",
      "source": [
        "# LDA 모델 학습 (토픽 수: 5로 가정, 조정 가능)\n",
        "n_topics = 6\n",
        "\n",
        "# TF-IDF 벡터라이저 (한국어 지원, max_features 제한으로 효율화)\n",
        "vectorizer = TfidfVectorizer(max_features=1000, min_df=2, max_df=0.8)\n",
        "feat_vect = vectorizer.fit_transform(processed_data)\n",
        "\n",
        "\n",
        "lda = LatentDirichletAllocation(n_components=n_topics, random_state=42)\n",
        "lda.fit(feat_vect)\n",
        "\n",
        "feature_names = vectorizer.get_feature_names_out()\n",
        "\n",
        "# 각 뉴스 기사의 토픽 분포 및 주요 토픽 할당 (분류)\n",
        "doc_topics = lda.transform(feat_vect)\n",
        "\n",
        "\n",
        "# pyLDAvis 시각화\n",
        "vis = pyLDAvis.lda_model.prepare(lda, feat_vect, vectorizer, mds='tsne')\n",
        "pyLDAvis.display(vis)\n",
        "# pyLDAvis.save_html(vis, 'news_lda_visualization.html')\n",
        "\n",
        "# # 전체 결과 저장 (CSV로)\n",
        "# df.to_csv('classified_news.csv', index=False)"
      ],
      "metadata": {
        "colab": {
          "base_uri": "https://localhost:8080/",
          "height": 859
        },
        "id": "90zpx3J0ee8S",
        "outputId": "df79c4be-a7aa-4f1f-a956-78d8166c933b"
      },
      "execution_count": 8,
      "outputs": [
        {
          "output_type": "execute_result",
          "data": {
            "text/plain": [
              "<IPython.core.display.HTML object>"
            ],
            "text/html": [
              "\n",
              "<link rel=\"stylesheet\" type=\"text/css\" href=\"https://cdn.jsdelivr.net/gh/bmabey/pyLDAvis@3.4.0/pyLDAvis/js/ldavis.v1.0.0.css\">\n",
              "\n",
              "\n",
              "<div id=\"ldavis_el8251362358690713126759801682\" style=\"background-color:white;\"></div>\n",
              "<script type=\"text/javascript\">\n",
              "\n",
              "var ldavis_el8251362358690713126759801682_data = {\"mdsDat\": {\"x\": [140.67636108398438, 13.072092056274414, -5.248699188232422, -140.21923828125, -106.06752014160156, 66.65306091308594], \"y\": [-2.9946672916412354, 116.50421142578125, -30.77168846130371, 31.59329605102539, -139.7701416015625, -160.79258728027344], \"topics\": [1, 2, 3, 4, 5, 6], \"cluster\": [1, 1, 1, 1, 1, 1], \"Freq\": [35.325842767707634, 25.838507283784896, 23.281501772144818, 9.392239325246459, 3.112458253919163, 3.049450597197025]}, \"tinfo\": {\"Term\": [\"\\ud6c4\\ubcf4\", \"\\uc544\\ud30c\\ud2b8\", \"\\uc758\\uc6d0\", \"\\uc544\\uc774\\ud3f0\", \"\\ub300\\ud68c\", \"\\ubbfc\\uc8fc\\ub2f9\", \"\\uacbd\\ucc30\", \"\\ud68c\\uc7a5\", \"\\uac00\\uad6c\", \"\\uc6d0\\ub0b4\\ub300\\ud45c\", \"\\uad6d\\ud68c\", \"\\uae30\\uc628\", \"\\ubd81\\ud55c\", \"\\ud0dc\\uc591\", \"\\ud610\\uc758\", \"\\ubaa8\\ubc14\\uc77c\", \"\\ud2b9\\uac80\", \"\\ud0dd\\uc2dc\", \"\\uad00\\uad11\\uac1d\", \"\\uc120\\uac70\", \"\\uc560\\ud50c\", \"\\ucc98\\ub9ac\", \"\\ub77c\\uc6b4\\ub4dc\", \"\\ubc14\\uc774\\uc624\", \"\\ub9ac\\ub2c8\\uc9c0\", \"\\uc120\\uc218\", \"\\ub86f\\ub370\", \"\\ub4dc\\ub8e8\", \"\\ubc30\\ud2c0\", \"\\ubd84\\uc591\", \"\\ubd81\\ud55c\", \"\\ud2b8\\ub7fc\\ud504\", \"\\ud68c\\ub2f4\", \"\\ubc30\\uc6b0\", \"\\uc815\\uc0c1\\ud68c\\ub2f4\", \"\\ubc29\\uc1a1\", \"\\uacb0\\ud63c\", \"\\ub4dc\\ub77c\\ub9c8\", \"\\ucd9c\\uc5f0\", \"\\ubd81\\ubbf8\", \"\\ub300\\ud1b5\\ub839\", \"\\uacb0\\ud63c\\uc2dd\", \"\\uac00\\uc218\", \"\\ube44\\ud575\\ud654\", \"\\uae40\\uc815\\uc740\", \"\\ud55c\\ubc18\\ub3c4\", \"\\uc2dc\\uc704\", \"\\ub0a8\\ud3b8\", \"\\ud310\\ubb38\\uc810\", \"\\uc6c3\\uc74c\", \"\\uc774\\uc2a4\\ub77c\\uc5d8\", \"\\ubc1c\\uc5b8\", \"\\ucd1d\\ub9ac\", \"\\uc608\\ub2a5\", \"\\ub0a8\\ubd81\", \"\\uc0ac\\ub791\", \"\\uc678\\uad50\", \"\\uc18c\\uc18d\\uc0ac\", \"\\uc5b4\\uba38\\ub2c8\", \"\\uc774\\ub780\", \"\\ub9c8\\uc74c\", \"\\ubaa8\\uc2b5\", \"\\uc6b0\\ub9ac\", \"\\uc7a5\\uad00\", \"\\uc120\\uc5b8\", \"\\uacf5\\uac1c\", \"\\uc0dd\\uac01\", \"\\uc911\\uad6d\", \"\\uc0ac\\ub78c\", \"\\ubbf8\\uad6d\", \"\\uc790\\uc2e0\", \"\\ub17c\\ub780\", \"\\ub300\\ud574\", \"\\ub77c\\uba70\", \"\\uc0ac\\uc9c4\", \"\\uc815\\ubd80\", \"\\uac00\\uc871\", \"\\ubb38\\uc81c\", \"\\uae30\\uc790\", \"\\uc9c0\\ub09c\", \"\\ud1b5\\ud574\", \"\\ub300\\ud55c\", \"\\uc2dc\\uac04\", \"\\uc6b0\\uc2b9\", \"\\uc120\\uc218\", \"\\ub300\\ud68c\", \"\\ucd9c\\uc804\", \"\\uacb0\\uc2b9\", \"\\uac24\\ub7ed\\uc2dc\", \"\\ucd9c\\uc2dc\", \"\\uac00\\uaca9\", \"\\uc5f0\\ub9f9\", \"\\uc0c1\\uc2b9\", \"\\uae40\\uc5f0\\uc544\", \"\\uc885\\ubaa9\", \"\\ub2ec\\ub7ec\", \"\\ub300\\ud45c\\ud300\", \"\\uc0c1\\uae08\", \"\\ud654\\uc0b0\", \"\\ub9e4\\ucd9c\", \"\\uc870\\uad50\\uc0ac\", \"\\uc815\\ud604\", \"\\uc804\\uc790\", \"\\uc6d4\\ub4dc\\ucef5\", \"\\uad6d\\uac00\\ub300\\ud45c\", \"\\uacbd\\uc8fc\", \"\\uc9c4\\ucd9c\", \"\\uc2b9\\ubd80\", \"\\uc778\\uc0c1\", \"\\uc62c\\ub9bc\\ud53d\", \"\\uacbd\\ub9c8\", \"\\uac8c\\uc784\", \"\\ud560\\uc778\", \"\\uc624\\ud508\", \"\\uacbd\\uae30\", \"\\uc2dc\\uc7a5\", \"\\uc5b5\\uc6d0\", \"\\uc2a4\\ud3ec\\uce20\", \"\\uc2a4\\ub9c8\\ud2b8\\ud3f0\", \"\\uc138\\uacc4\", \"\\uad6d\\ub0b4\", \"\\uae30\\ub85d\", \"\\ud310\\ub9e4\", \"\\uc0ac\\uc5c5\", \"\\ud55c\\uad6d\", \"\\uc544\\uc2dc\\uc544\", \"\\uc11c\\ube44\\uc2a4\", \"\\uad6d\\uc81c\", \"\\uc774\\ubc88\", \"\\ub9cc\\uc6d0\", \"\\uc9c0\\ub09c\\ud574\", \"\\uc11c\\uc6b8\", \"\\uc911\\uad6d\", \"\\uc7ac\\ud310\", \"\\uc12d\\ucde8\", \"\\ud610\\uc758\", \"\\uc9d5\\uc5ed\", \"\\uc120\\uace0\", \"\\uad6c\\uc9c4\", \"\\uc5f0\\uad6c\", \"\\ub2f4\\ubc30\", \"\\ud658\\uc790\", \"\\ubc94\\ud589\", \"\\uacbd\\ucc30\", \"\\uc9c0\\uad6c\", \"\\ud310\\uc0ac\", \"\\uc131\\ud3ed\\ud589\", \"\\uc138\\ud3ec\", \"\\uce58\\ub9e4\", \"\\uc9c4\\uc220\", \"\\ud53c\\ud574\\uc790\", \"\\uc9c8\\ud658\", \"\\uae30\\uc18c\", \"\\uc7ac\\uc0b0\", \"\\uc0b4\\ud574\", \"\\ud53c\\ubd80\", \"\\uc608\\ubc29\", \"\\uac80\\ucc30\", \"\\uad6c\\uc18d\", \"\\ubc95\\uc6d0\", \"\\ud615\\uc0ac\", \"\\ucc98\\ubc8c\", \"\\ub0a8\\uc131\", \"\\ubc1c\\uacac\", \"\\uc870\\uc0ac\", \"\\uce58\\ub8cc\", \"\\uc2e0\\uace0\", \"\\uc704\\ud5d8\", \"\\uc218\\uc0ac\", \"\\ud3ed\\ud589\", \"\\ud655\\uc778\", \"\\uc0ac\\uace0\", \"\\uacb0\\uacfc\", \"\\ub313\\uae00\", \"\\uc0ac\\uc6a9\", \"\\uc0ac\\uac74\", \"\\ubcd1\\uc6d0\", \"\\uc5ec\\uc131\", \"\\uc6b4\\ub3d9\", \"\\ubc1c\\uc0dd\", \"\\ud53c\\ud574\", \"\\uc0ac\\ub78c\", \"\\uc0ac\\uc2e4\", \"\\uacbd\\uc6b0\", \"\\uc11c\\uc6b8\", \"\\uc6d0\\ub0b4\\ub300\\ud45c\", \"\\uae30\\uc628\", \"\\ud2b9\\uac80\", \"\\ubbfc\\uc8fc\\ub2f9\", \"\\ubcf8\\ud68c\\uc758\", \"\\ub0a0\\uc528\", \"\\ubbf8\\uc138\\uba3c\\uc9c0\", \"\\uac10\\ub9ac\", \"\\uc5ec\\uc57c\", \"\\uc9c0\\ubc29\\uc120\\uac70\", \"\\uac15\\ub989\", \"\\uc758\\uc6d0\", \"\\ucd9c\\ub9c8\", \"\\ud6c4\\ubcf4\", \"\\uad6d\\ud68c\", \"\\uae40\\uc131\\ud0dc\", \"\\uacf5\\ucc9c\", \"\\uc0ac\\uc9c1\\uc11c\", \"\\ud68c\\uacc4\", \"\\uc120\\uac70\", \"\\ub3c4\\uc2dc\\ubc14\", \"\\ub098\\ub4e4\\ubaa9\", \"\\ubc14\\uc774\\uc624\", \"\\ucc98\\ub9ac\", \"\\ub0b4\\uc77c\", \"\\uc57c\\ub2f9\", \"\\uc5ec\\ub2f9\", \"\\uc9c1\\uc2a4\", \"\\uae40\\uacbd\\uc218\", \"\\uad6d\\ud68c\\uc758\\uc6d0\", \"\\ubc14\\ub2e4\", \"\\uae08\\uac10\\uc6d0\", \"\\ub4dc\\ub8e8\", \"\\uc790\\uc720\", \"\\uc9c0\\uc5ed\", \"\\ud55c\\uad6d\", \"\\uc11c\\uc6b8\", \"\\uc804\\uad6d\", \"\\ub300\\ud45c\", \"\\ubbf8\\ub798\", \"\\uac00\\uad6c\", \"\\ubd84\\uc591\", \"\\ud0dc\\uc591\", \"\\uc544\\ud30c\\ud2b8\", \"\\ub86f\\ub370\", \"\\uc138\\uae08\", \"\\uac00\\uc2a4\", \"\\ub2e8\\uc9c0\", \"\\ub300\\ud55c\\ud56d\\uacf5\", \"\\ub9e4\\uac01\", \"\\uac74\\uc124\", \"\\uc138\\ub300\", \"\\uc608\\uce21\", \"\\ud55c\\uc9c4\", \"\\ud68c\\uc7a5\", \"\\uc77c\\uac00\", \"\\uac10\\uc815\", \"\\uc8fc\\ud0dd\", \"\\uacf5\\uc0ac\", \"\\uacc4\\uc57d\", \"\\ub514\\uc790\\uc778\", \"\\uacb0\\ub860\", \"\\uc9c0\\uad6c\", \"\\ucd08\\uacfc\", \"\\uc720\\uac00\", \"\\ubcf4\\ud3b8\", \"\\uc870\\uc6d0\", \"\\uae08\\uc561\", \"\\ud480\\uc774\", \"\\uacbd\\uc601\", \"\\ubd80\\ub3d9\\uc0b0\", \"\\ub2e8\\uacc4\", \"\\uad00\\uce21\", \"\\uc874\\uc7ac\", \"\\ube44\\ub9ac\", \"\\uc2e0\\uace0\", \"\\uc5f0\\uad6c\", \"\\uc5d0\\ub108\\uc9c0\", \"\\uadf8\\ub8f9\", \"\\uac70\\ubd80\", \"\\ud0dd\\uc2dc\", \"\\ub9ac\\ub2c8\\uc9c0\", \"\\ubc30\\ud2c0\", \"\\uc544\\uc774\\ud3f0\", \"\\ubaa8\\ubc14\\uc77c\", \"\\ub77c\\uc6b4\\ub4dc\", \"\\uad00\\uad11\\uac1d\", \"\\uc560\\ud50c\", \"\\uad6c\\uae00\", \"\\ub514\\uc790\\uc778\", \"\\uc774\\uc6a9\\uc790\", \"\\ub9e4\\uccb4\", \"\\uc2a4\\ub9c8\\ud2b8\\ud3f0\", \"\\ud654\\uba74\", \"\\uae30\\ub2a5\", \"\\ud615\\ud0dc\", \"\\ucf58\\ud150\\uce20\", \"\\uc608\\uc57d\", \"\\ucd08\\uacfc\", \"\\uc804\\uba74\", \"\\uc720\\uac00\", \"\\ubcf4\\ud3b8\", \"\\uc870\\uc6d0\", \"\\ud480\\uc774\", \"\\uae08\\uc561\", \"\\ub178\\uc870\", \"\\uccb4\\uc81c\", \"\\ud558\\uc774\\ub2c9\\uc2a4\", \"\\ubc18\\ubc1c\", \"\\ub098\\ub4e4\\ubaa9\", \"\\uc694\\uae08\", \"\\ub514\\uc2a4\\ud50c\\ub808\\uc774\", \"\\ucd9c\\uc2dc\", \"\\uac8c\\uc784\", \"\\ucd9c\\ubc1c\", \"\\uc74c\\uc545\", \"\\uc774\\uc81c\", \"\\uc7ac\\uc0b0\", \"\\ubd81\\ubbf8\", \"\\uc870\\uc791\", \"\\ud50c\\ub7ab\\ud3fc\", \"\\ub9c8\\uc74c\"], \"Freq\": [23.0, 13.0, 19.0, 10.0, 29.0, 13.0, 30.0, 16.0, 7.0, 11.0, 12.0, 11.0, 31.0, 7.0, 23.0, 8.0, 10.0, 6.0, 8.0, 11.0, 7.0, 11.0, 7.0, 11.0, 5.0, 20.0, 6.0, 13.0, 5.0, 5.0, 30.261806254958998, 15.825061961166544, 14.908656404914494, 14.852121991333242, 13.934473576084919, 20.69333212838913, 12.980025256218221, 9.948072386694038, 13.624955490678566, 12.494177545658468, 23.52992883298945, 7.3743823839977924, 7.346230724433856, 7.124601193790626, 7.079753476088514, 7.570150181567727, 6.884133490023034, 9.847532682889781, 6.49006064257939, 6.590485227252269, 6.058468598229592, 6.793088514442734, 7.420156486272383, 5.870484315298995, 10.27791312322092, 10.61829205838006, 5.793512298791426, 5.858676842416534, 6.726308440072316, 5.612674519994701, 8.563120641400578, 16.10764995127367, 15.536456104214881, 7.412617599555238, 7.454262191385682, 12.742870894220829, 12.035674555719494, 17.24251378078228, 17.640388208207742, 16.394681856462707, 13.434175372321436, 10.057010615010276, 13.691804862570324, 9.763308146386509, 10.944899084492809, 12.05496056673459, 9.45371407576203, 11.165911587216375, 13.742076855058146, 12.840711032568109, 11.215317819199349, 11.152830330016899, 11.244646753483256, 13.901886331261316, 18.764994330961233, 27.397435176584118, 10.018429265432514, 9.870409601285592, 8.510934605984147, 10.225384112474433, 13.57952065156153, 8.222134788012227, 8.390749906526604, 6.743286767205448, 5.841701601470033, 11.248674442392602, 5.622787295050082, 5.528365180066588, 5.602554839007884, 5.398070399374557, 5.328031399228656, 5.375484827587341, 11.888417798236004, 5.27732623995993, 5.238095146224322, 6.506871601981395, 7.379818796414794, 5.179932066911083, 6.054436806838509, 7.241746222561624, 4.591088630508926, 15.461720661231569, 4.485557769264992, 7.947935858317081, 17.122542711411487, 11.621598990417237, 11.588875811340092, 8.375433062447867, 8.303473588154478, 12.564245719141276, 9.849165900408877, 9.613904959851167, 8.35641916364906, 8.841149368881236, 15.727007842317235, 7.931010027710504, 8.594293533538659, 8.710901330822805, 9.615731428694845, 8.16681842489861, 8.351448554105314, 8.389981068371572, 8.220023584329002, 10.160188855556742, 7.31223643250081, 20.774774154375095, 6.997206481528349, 8.028173672209766, 6.437311627283052, 12.171254803582732, 6.012168097370549, 8.890152314858087, 6.6569892758566, 25.71797827565, 7.317226650168193, 4.6852029869664635, 6.490242472664059, 5.2797014608429755, 4.536897109505411, 5.964933251747921, 9.159718233506817, 5.189179143784616, 5.80094355952453, 4.762791972784439, 6.004436036231783, 4.663028656720683, 5.90766331488497, 10.74759811413016, 4.5301789415243165, 4.649659473497859, 4.014168141035491, 4.686795926611071, 8.499889127329515, 11.014046472116572, 16.569017116524236, 8.758661747547684, 6.485277151187825, 6.609029793678422, 9.608986687260936, 7.58296548456334, 11.054522821590522, 10.85550215165526, 10.123307806805844, 7.741033550201023, 8.762478773400755, 9.29523246760437, 7.8595152966118915, 8.529082036607893, 7.507633652668095, 7.529467044588056, 7.33138689992204, 8.41573216628086, 7.789803383584724, 7.218407494350269, 7.338924958671724, 11.117178633580158, 10.934340611629048, 9.888940576512832, 12.461376400415446, 7.645879195514811, 7.075433337763657, 7.276995178589254, 5.399700259149105, 7.081289681623249, 6.717316719547233, 4.955459361287362, 17.041176733647365, 4.766536278573022, 19.803395219538725, 10.910855883594824, 4.086392092205674, 3.8946335349760832, 3.8997451134707353, 4.017872398500004, 9.0901727984981, 2.9763607090189, 2.905562937220564, 8.793938478549121, 9.018411622948857, 6.874364780069767, 3.879951733120096, 3.141738021690916, 5.69723542911034, 4.465817876730489, 3.2055417474467522, 4.939429854633383, 4.081695662545269, 7.421643505888442, 5.391255609483246, 6.700032601733684, 6.6082744387408265, 6.12976676596301, 4.943140150770378, 4.813470810875345, 4.305434817989882, 6.708872399560972, 4.591449205406795, 5.726405604168515, 9.031538506209536, 4.2364573248427115, 3.3984826751207784, 2.613109817840003, 1.9099065796386898, 2.0231559393874003, 1.0369406011780138, 1.2048359255987422, 1.311017003743997, 0.979876966377393, 0.9584958429087258, 2.748311083094213, 0.7018928449702713, 0.838367048539171, 0.9898735800277282, 0.6966428786260416, 0.4661208578332911, 0.5671963776282752, 0.36446876591014504, 0.6141099640955381, 0.20082969545240922, 0.20051795367948919, 0.2005274082734285, 0.2005161370285321, 0.20112870924116086, 0.20072189926272396, 0.2163255582391895, 0.3165999962704464, 0.3303968953881791, 0.3352244605196133, 0.24468893763313176, 0.22948581073213334, 0.2891254409610176, 0.3097130121274695, 0.2450846300312028, 0.28402207065552854, 0.24616196152759892, 5.647778398691839, 5.203274626679394, 4.827440448579856, 6.924547511095247, 3.8755183444670958, 3.38630920055769, 3.3553601926503496, 3.135257569230644, 1.8644932329268025, 1.7986790593950575, 1.1292758740849678, 0.784483033851507, 1.148874784771332, 0.46792288937985943, 0.7206985164784816, 0.41360547566167344, 0.37252397134868603, 0.3372896073411649, 0.20296172097745002, 0.2583256561008702, 0.20295087023681477, 0.20296099901114326, 0.203520642410413, 0.20628565217962688, 0.2029858161930788, 0.20300076272112022, 0.20440385295671437, 0.2029460703649608, 0.20301709577041677, 0.20295140635488204, 0.2616046703544417, 0.2644313449719524, 0.404167538531361, 0.5161350864052617, 0.24461765190980989, 0.23289279090014328, 0.2757150716784789, 0.2311103975912973, 0.27318326248772673, 0.23068812846393302, 0.21292248357404625, 0.23060586199447525], \"Total\": [23.0, 13.0, 19.0, 10.0, 29.0, 13.0, 30.0, 16.0, 7.0, 11.0, 12.0, 11.0, 31.0, 7.0, 23.0, 8.0, 10.0, 6.0, 8.0, 11.0, 7.0, 11.0, 7.0, 11.0, 5.0, 20.0, 6.0, 13.0, 5.0, 5.0, 31.238572586848296, 16.67610858824458, 15.760880943412037, 15.704498316194593, 14.789602557912676, 21.96330203497357, 13.961471778045132, 10.806039183517326, 14.860590415128476, 13.717665454320777, 26.07445336593313, 8.230032153667649, 8.21001439776061, 7.975195746897633, 7.930353950877295, 8.47986872314813, 7.735455055407925, 11.127107605022292, 7.340903327202036, 7.468536019422629, 6.908812411501697, 7.756569449484202, 8.488098813276114, 6.722226439593241, 11.774859291262613, 12.165881053667182, 6.644581613518154, 6.720158838061207, 7.765382722147724, 6.500324709779141, 9.968669618050878, 19.7379764448934, 19.87571730083874, 8.894880010685274, 8.958944926725751, 17.669118946844463, 16.437930220458224, 26.884129876167236, 27.77571777811643, 25.961637226526637, 20.459417245347495, 13.83058944835434, 23.326408667097333, 13.797636402712545, 17.01911484911146, 20.342909602277455, 13.313578965939584, 18.88326126856604, 29.48994630708582, 26.97385354079774, 21.965780214658064, 22.193887787746228, 26.809716770692816, 14.74954489683061, 20.166451770679664, 29.708170363744102, 10.86901605256066, 10.71799415166611, 9.358558261730174, 11.330466625251502, 15.130591237345781, 9.16183847149342, 9.380529007396184, 7.591233653262608, 6.689340855694906, 12.90951255466139, 6.470404383018575, 6.376106738014827, 6.471264226521698, 6.247582241979982, 6.175648179831188, 6.237980536198166, 13.803248926384839, 6.12895749508347, 6.086329492475926, 7.568661190441734, 8.635513187454897, 6.066976580772218, 7.125748667937876, 8.565876953341846, 5.43882797894077, 18.352060971470685, 5.333803029851351, 9.475063895394609, 20.844941317186443, 14.907524466020345, 15.027447373284453, 10.5131840142359, 10.652994301640105, 18.13099265064195, 13.76896393331697, 13.401919094445741, 11.221063551228234, 12.46743272299219, 33.726151456897874, 11.095232379472547, 12.788042598279512, 13.625675066064103, 23.19265747441641, 14.901751431955557, 18.756660425880234, 29.081544444402144, 26.884129876167236, 11.010623303474173, 8.159056161089422, 23.20901056049878, 7.86568524880883, 9.078508190602662, 7.283231337983158, 13.834873715807554, 6.861476609366164, 10.263239245949844, 7.754014792976801, 30.096584201264907, 8.616443945611781, 5.531615666774259, 7.666577664695559, 6.258989371512245, 5.382600024617026, 7.140328685312524, 10.97986937537759, 6.237615266375663, 6.977137021970536, 5.7657626170284795, 7.30111029149979, 5.696893348669863, 7.228699664784721, 13.217432065195812, 5.6619028941117895, 5.87390439638226, 5.109411778559597, 5.988502024491635, 10.869920214273392, 14.413395100574974, 22.302443999428665, 11.687840058897393, 8.489556527823435, 8.884388991691448, 14.530241230644394, 10.671089561397267, 18.070077740145905, 18.588588806601006, 17.454137005634408, 11.441505707215608, 14.44179700769702, 16.139144591958505, 12.94763334759892, 15.50963056753496, 13.352737710332018, 13.851258718388177, 13.210781425620755, 27.77571777811643, 19.825724020576686, 17.11737788313394, 29.081544444402144, 11.957084196479842, 11.776044491796148, 10.730508712247751, 13.720658938130276, 8.485285517850748, 7.926794433332836, 8.287103313221776, 6.241248646019884, 8.204219178440766, 7.830786103057933, 5.800802519565681, 19.949890959499594, 5.610396111713339, 23.44718658906831, 12.995177060074157, 4.927008082240087, 4.734398750697582, 4.7412866754564975, 5.082738212925781, 11.551493391835617, 3.825668686460838, 3.746366382719076, 11.346555713392707, 11.911131122433451, 9.446763440128912, 5.3488076484310865, 4.332868491886922, 7.927693388259291, 6.279554063284601, 4.616258876333787, 7.149322515333108, 6.060461118528891, 13.540105835394707, 9.481735978767306, 18.53319531337843, 33.726151456897874, 29.081544444402144, 12.932073926021925, 21.326280094971967, 9.146414960341167, 7.636655900988593, 5.391869793278176, 7.426002994136207, 13.219423473494682, 6.219106809269365, 5.965483149118814, 5.46155825308933, 4.447184636541718, 6.883091170944638, 4.0079149634358355, 4.892425165368905, 5.855673168173933, 4.567016341762238, 4.999172481933704, 16.720867473992932, 4.673724737517408, 5.809289675558425, 8.460108499106212, 6.291838672142709, 5.024605869828617, 7.024949593408402, 5.047113825592283, 8.616443945611781, 3.2497162234978405, 3.344225381793523, 3.3495926431271323, 3.4295538261712637, 3.5601428810913003, 3.5718851819629656, 3.8561881524814576, 6.057371302210927, 6.591621997601675, 7.232776284924281, 5.02884029775945, 4.688525034072061, 8.489556527823435, 13.834873715807554, 6.046534087094229, 13.423075419826496, 7.666981566519088, 6.445092115698512, 5.99403664188992, 5.618294168524717, 10.802754593998088, 8.243872721892371, 7.362599617765683, 8.013390112531685, 7.936558201586751, 6.530892472062699, 7.024949593408402, 5.727958400324401, 6.177989374138309, 10.652994301640105, 5.1447553833358, 8.525609146631943, 5.3716637433158905, 5.147362841352948, 4.89810418173352, 3.2497162234978405, 4.237542112969262, 3.344225381793523, 3.3495926431271323, 3.4295538261712637, 3.5718851819629656, 3.5601428810913003, 3.612897293705512, 3.7083896120344506, 3.702629011700457, 3.7336522121462226, 3.746366382719076, 4.852069969272711, 5.565165149551068, 11.330466625251502, 18.352060971470685, 5.245821001449484, 4.921278995926999, 7.828039601464658, 5.7657626170284795, 13.717665454320777, 6.6109250820136065, 4.343760685468269, 9.968669618050878], \"Category\": [\"Default\", \"Default\", \"Default\", \"Default\", \"Default\", \"Default\", \"Default\", \"Default\", \"Default\", \"Default\", \"Default\", \"Default\", \"Default\", \"Default\", \"Default\", \"Default\", \"Default\", \"Default\", \"Default\", \"Default\", \"Default\", \"Default\", \"Default\", \"Default\", \"Default\", \"Default\", \"Default\", \"Default\", \"Default\", \"Default\", \"Topic1\", \"Topic1\", \"Topic1\", \"Topic1\", \"Topic1\", \"Topic1\", \"Topic1\", \"Topic1\", \"Topic1\", \"Topic1\", \"Topic1\", \"Topic1\", \"Topic1\", \"Topic1\", \"Topic1\", \"Topic1\", \"Topic1\", \"Topic1\", \"Topic1\", \"Topic1\", \"Topic1\", \"Topic1\", \"Topic1\", \"Topic1\", \"Topic1\", \"Topic1\", \"Topic1\", \"Topic1\", \"Topic1\", \"Topic1\", \"Topic1\", \"Topic1\", \"Topic1\", \"Topic1\", \"Topic1\", \"Topic1\", \"Topic1\", \"Topic1\", \"Topic1\", \"Topic1\", \"Topic1\", \"Topic1\", \"Topic1\", \"Topic1\", \"Topic1\", \"Topic1\", \"Topic1\", \"Topic1\", \"Topic1\", \"Topic1\", \"Topic1\", \"Topic1\", \"Topic1\", \"Topic2\", \"Topic2\", \"Topic2\", \"Topic2\", \"Topic2\", \"Topic2\", \"Topic2\", \"Topic2\", \"Topic2\", \"Topic2\", \"Topic2\", \"Topic2\", \"Topic2\", \"Topic2\", \"Topic2\", \"Topic2\", \"Topic2\", \"Topic2\", \"Topic2\", \"Topic2\", \"Topic2\", \"Topic2\", \"Topic2\", \"Topic2\", \"Topic2\", \"Topic2\", \"Topic2\", \"Topic2\", \"Topic2\", \"Topic2\", \"Topic2\", \"Topic2\", \"Topic2\", \"Topic2\", \"Topic2\", \"Topic2\", \"Topic2\", \"Topic2\", \"Topic2\", \"Topic2\", \"Topic2\", \"Topic2\", \"Topic2\", \"Topic2\", \"Topic2\", \"Topic2\", \"Topic2\", \"Topic2\", \"Topic2\", \"Topic2\", \"Topic3\", \"Topic3\", \"Topic3\", \"Topic3\", \"Topic3\", \"Topic3\", \"Topic3\", \"Topic3\", \"Topic3\", \"Topic3\", \"Topic3\", \"Topic3\", \"Topic3\", \"Topic3\", \"Topic3\", \"Topic3\", \"Topic3\", \"Topic3\", \"Topic3\", \"Topic3\", \"Topic3\", \"Topic3\", \"Topic3\", \"Topic3\", \"Topic3\", \"Topic3\", \"Topic3\", \"Topic3\", \"Topic3\", \"Topic3\", \"Topic3\", \"Topic3\", \"Topic3\", \"Topic3\", \"Topic3\", \"Topic3\", \"Topic3\", \"Topic3\", \"Topic3\", \"Topic3\", \"Topic3\", \"Topic3\", \"Topic3\", \"Topic3\", \"Topic3\", \"Topic3\", \"Topic3\", \"Topic3\", \"Topic3\", \"Topic3\", \"Topic3\", \"Topic3\", \"Topic4\", \"Topic4\", \"Topic4\", \"Topic4\", \"Topic4\", \"Topic4\", \"Topic4\", \"Topic4\", \"Topic4\", \"Topic4\", \"Topic4\", \"Topic4\", \"Topic4\", \"Topic4\", \"Topic4\", \"Topic4\", \"Topic4\", \"Topic4\", \"Topic4\", \"Topic4\", \"Topic4\", \"Topic4\", \"Topic4\", \"Topic4\", \"Topic4\", \"Topic4\", \"Topic4\", \"Topic4\", \"Topic4\", \"Topic4\", \"Topic4\", \"Topic4\", \"Topic4\", \"Topic4\", \"Topic4\", \"Topic4\", \"Topic4\", \"Topic4\", \"Topic4\", \"Topic4\", \"Topic5\", \"Topic5\", \"Topic5\", \"Topic5\", \"Topic5\", \"Topic5\", \"Topic5\", \"Topic5\", \"Topic5\", \"Topic5\", \"Topic5\", \"Topic5\", \"Topic5\", \"Topic5\", \"Topic5\", \"Topic5\", \"Topic5\", \"Topic5\", \"Topic5\", \"Topic5\", \"Topic5\", \"Topic5\", \"Topic5\", \"Topic5\", \"Topic5\", \"Topic5\", \"Topic5\", \"Topic5\", \"Topic5\", \"Topic5\", \"Topic5\", \"Topic5\", \"Topic5\", \"Topic5\", \"Topic5\", \"Topic5\", \"Topic5\", \"Topic5\", \"Topic5\", \"Topic5\", \"Topic6\", \"Topic6\", \"Topic6\", \"Topic6\", \"Topic6\", \"Topic6\", \"Topic6\", \"Topic6\", \"Topic6\", \"Topic6\", \"Topic6\", \"Topic6\", \"Topic6\", \"Topic6\", \"Topic6\", \"Topic6\", \"Topic6\", \"Topic6\", \"Topic6\", \"Topic6\", \"Topic6\", \"Topic6\", \"Topic6\", \"Topic6\", \"Topic6\", \"Topic6\", \"Topic6\", \"Topic6\", \"Topic6\", \"Topic6\", \"Topic6\", \"Topic6\", \"Topic6\", \"Topic6\", \"Topic6\", \"Topic6\", \"Topic6\", \"Topic6\", \"Topic6\", \"Topic6\", \"Topic6\", \"Topic6\"], \"logprob\": [30.0, 29.0, 28.0, 27.0, 26.0, 25.0, 24.0, 23.0, 22.0, 21.0, 20.0, 19.0, 18.0, 17.0, 16.0, 15.0, 14.0, 13.0, 12.0, 11.0, 10.0, 9.0, 8.0, 7.0, 6.0, 5.0, 4.0, 3.0, 2.0, 1.0, -4.5458, -5.194, -5.2537, -5.2575, -5.3213, -4.9258, -5.3922, -5.6583, -5.3437, -5.4304, -4.7974, -5.9576, -5.9614, -5.9921, -5.9984, -5.9314, -6.0264, -5.6684, -6.0854, -6.07, -6.1542, -6.0397, -5.9514, -6.1857, -5.6256, -5.5931, -6.1989, -6.1877, -6.0496, -6.2306, -5.8082, -5.1763, -5.2124, -5.9525, -5.9469, -5.4107, -5.4678, -5.1083, -5.0854, -5.1587, -5.3578, -5.6474, -5.3388, -5.677, -5.5628, -5.4662, -5.7092, -5.5428, -5.3352, -5.403, -5.5384, -5.5439, -5.5357, -5.0109, -4.7109, -4.3324, -5.3385, -5.3533, -5.5015, -5.318, -5.0343, -5.5361, -5.5158, -5.7343, -5.8779, -5.2226, -5.9161, -5.933, -5.9197, -5.9568, -5.9699, -5.961, -5.1673, -5.9795, -5.9869, -5.77, -5.6441, -5.9981, -5.8421, -5.663, -6.1188, -4.9045, -6.142, -5.57, -4.8025, -5.19, -5.1928, -5.5176, -5.5262, -5.112, -5.3555, -5.3797, -5.5199, -5.4635, -4.8875, -5.5721, -5.4918, -5.4783, -5.3795, -5.5428, -5.5205, -5.5158, -5.5363, -5.2202, -5.5491, -4.5049, -5.5932, -5.4557, -5.6766, -5.0396, -5.7449, -5.3537, -5.643, -4.2915, -5.5484, -5.9943, -5.6684, -5.8748, -6.0264, -5.7528, -5.3239, -5.8921, -5.7807, -5.9778, -5.7462, -5.999, -5.7624, -5.164, -6.0279, -6.0019, -6.1489, -5.9939, -5.3986, -5.1395, -4.7311, -5.3686, -5.6691, -5.6502, -5.276, -5.5128, -5.1358, -5.154, -5.2238, -5.4921, -5.3682, -5.3092, -5.477, -5.3952, -5.5228, -5.5199, -5.5465, -5.4086, -5.4859, -5.562, -5.5455, -4.2224, -4.239, -4.3395, -4.1083, -4.5967, -4.6743, -4.6462, -4.9446, -4.6734, -4.7262, -5.0304, -3.7953, -5.0693, -3.6451, -4.2411, -5.2232, -5.2713, -5.27, -5.2402, -4.4237, -5.5402, -5.5643, -4.4568, -4.4316, -4.7031, -5.2751, -5.4861, -4.8909, -5.1345, -5.466, -5.0337, -5.2244, -4.6265, -4.9461, -4.7288, -4.7426, -4.8177, -5.0329, -5.0595, -5.171, -3.623, -4.0022, -3.7813, -3.3257, -4.0827, -4.3031, -4.5659, -4.8794, -4.8218, -5.4902, -5.3401, -5.2556, -5.5468, -5.5688, -4.5154, -5.8804, -5.7027, -5.5366, -5.8879, -6.2897, -6.0935, -6.5357, -6.014, -7.1317, -7.1333, -7.1332, -7.1333, -7.1302, -7.1323, -7.0574, -6.6766, -6.6339, -6.6194, -6.9342, -6.9983, -6.7673, -6.6985, -6.9326, -6.7851, -6.9282, -3.7747, -3.8567, -3.9317, -3.5709, -4.1513, -4.2862, -4.2954, -4.3633, -4.883, -4.9189, -5.3844, -5.7487, -5.3672, -6.2654, -5.8335, -6.3888, -6.4934, -6.5928, -7.1007, -6.8595, -7.1008, -7.1007, -7.098, -7.0845, -7.1006, -7.1005, -7.0936, -7.1008, -7.1004, -7.1008, -6.8469, -6.8362, -6.4119, -6.1674, -6.914, -6.9632, -6.7944, -6.9708, -6.8036, -6.9727, -7.0528, -6.973], \"loglift\": [30.0, 29.0, 28.0, 27.0, 26.0, 25.0, 24.0, 23.0, 22.0, 21.0, 20.0, 19.0, 18.0, 17.0, 16.0, 15.0, 14.0, 13.0, 12.0, 11.0, 10.0, 9.0, 8.0, 7.0, 6.0, 5.0, 4.0, 3.0, 2.0, 1.0, 1.0088, 0.9882, 0.985, 0.9848, 0.981, 0.981, 0.9677, 0.9578, 0.9537, 0.9471, 0.9379, 0.9308, 0.9294, 0.9278, 0.9271, 0.9271, 0.924, 0.9184, 0.9174, 0.9155, 0.9092, 0.9079, 0.9061, 0.9051, 0.9046, 0.9045, 0.9035, 0.9034, 0.8969, 0.8937, 0.8886, 0.8373, 0.7942, 0.8583, 0.8567, 0.7137, 0.7288, 0.5964, 0.5866, 0.5809, 0.6199, 0.7219, 0.5078, 0.6947, 0.5991, 0.5173, 0.6982, 0.5151, 0.277, 0.2983, 0.3684, 0.3524, 0.1717, 1.2941, 1.2813, 1.2723, 1.2718, 1.2709, 1.2584, 1.2507, 1.2451, 1.2451, 1.2418, 1.2349, 1.2178, 1.2156, 1.2129, 1.2106, 1.2092, 1.2072, 1.2057, 1.2045, 1.204, 1.2037, 1.2032, 1.2021, 1.1962, 1.1952, 1.1904, 1.1854, 1.1839, 1.1819, 1.1801, 1.1776, 1.1566, 1.1043, 1.0935, 1.126, 1.1041, 0.9865, 1.0183, 1.0211, 1.0585, 1.0096, 0.5904, 1.0176, 0.9559, 0.9059, 0.4729, 0.7519, 0.5442, 0.1102, 0.1683, 1.3771, 1.3479, 1.3467, 1.3405, 1.3346, 1.334, 1.3294, 1.3254, 1.3139, 1.305, 1.3003, 1.2941, 1.2914, 1.2909, 1.2874, 1.2866, 1.2777, 1.2763, 1.2735, 1.2729, 1.2664, 1.262, 1.2573, 1.2557, 1.2507, 1.2345, 1.2238, 1.2163, 1.2124, 1.2116, 1.1885, 1.1603, 1.169, 1.1882, 1.1617, 1.044, 1.1159, 0.9661, 0.9196, 0.9128, 1.0668, 0.9579, 0.9058, 0.9583, 0.8595, 0.8817, 0.848, 0.8686, 0.2635, 0.5233, 0.5941, 0.0806, 2.2925, 2.2911, 2.2836, 2.269, 2.2611, 2.2517, 2.2353, 2.2204, 2.2181, 2.2119, 2.2078, 2.2077, 2.2023, 2.1964, 2.1905, 2.1782, 2.17, 2.1699, 2.1302, 2.1257, 2.1143, 2.1111, 2.1104, 2.0871, 2.0474, 2.0442, 2.0438, 2.0349, 2.0244, 2.0006, 1.9955, 1.97, 1.764, 1.8007, 1.3478, 0.7353, 0.8083, 1.4036, 0.8768, 1.6118, 3.3402, 3.3091, 3.2099, 3.0888, 3.0859, 2.9071, 2.7326, 2.6245, 2.2453, 2.1178, 2.0684, 1.9731, 1.9306, 1.8181, 1.6641, 1.5738, 1.534, 1.3242, 1.269, 1.0921, 0.9532, 0.8416, 0.8285, 0.6859, 0.6557, 0.6541, 0.6305, 0.5961, 0.5908, 0.5891, 0.5184, 0.4765, 0.3982, 0.4468, 0.4527, 0.09, -0.3295, 0.2641, -0.3859, 0.0311, 3.3582, 3.3487, 3.3385, 3.0455, 2.7354, 2.7135, 2.6197, 2.5614, 2.2367, 2.1278, 1.8664, 1.4265, 1.2632, 1.0928, 1.0196, 0.9262, 0.8643, 0.8145, 0.7169, 0.6927, 0.6882, 0.6866, 0.6658, 0.6386, 0.6258, 0.6112, 0.592, 0.5864, 0.5784, 0.5746, 0.5699, 0.4435, 0.1568, -0.0809, 0.4247, 0.4395, 0.1441, 0.2734, -0.4261, 0.1348, 0.4746, -0.2763]}, \"token.table\": {\"Topic\": [2, 3, 5, 1, 1, 2, 3, 5, 1, 2, 3, 4, 1, 3, 5, 4, 2, 1, 3, 1, 2, 5, 1, 3, 4, 1, 2, 6, 1, 2, 3, 4, 3, 4, 2, 1, 1, 1, 2, 3, 4, 2, 1, 2, 3, 1, 2, 3, 4, 2, 1, 3, 1, 2, 3, 1, 2, 3, 1, 2, 3, 5, 4, 2, 6, 1, 2, 3, 4, 2, 3, 6, 3, 3, 2, 1, 2, 3, 1, 2, 3, 1, 2, 4, 1, 4, 1, 2, 3, 3, 4, 2, 3, 2, 3, 6, 1, 2, 3, 3, 4, 1, 2, 3, 4, 3, 4, 4, 2, 1, 4, 4, 1, 2, 1, 3, 1, 3, 1, 4, 1, 1, 3, 4, 1, 2, 3, 4, 1, 2, 5, 1, 2, 3, 1, 3, 4, 1, 2, 3, 4, 2, 1, 2, 3, 4, 1, 5, 1, 2, 3, 4, 1, 2, 1, 3, 4, 4, 1, 3, 4, 2, 2, 5, 6, 1, 2, 3, 2, 6, 2, 5, 6, 1, 2, 1, 2, 3, 1, 2, 5, 1, 2, 6, 2, 2, 6, 1, 2, 3, 1, 2, 3, 4, 1, 2, 3, 1, 2, 4, 4, 1, 4, 2, 4, 2, 4, 1, 4, 1, 3, 1, 2, 3, 1, 1, 1, 6, 3, 3, 1, 3, 4, 2, 4, 2, 1, 1, 5, 1, 4, 1, 1, 3, 4, 1, 3, 4, 1, 2, 3, 1, 2, 1, 2, 3, 1, 2, 3, 1, 2, 3, 4, 1, 2, 3, 1, 3, 2, 2, 1, 2, 3, 1, 2, 3, 1, 2, 3, 4, 1, 4, 3, 1, 2, 1, 2, 3, 3, 1, 2, 3, 2, 5, 1, 2, 5, 3, 1, 1, 3, 4, 2, 3, 6, 1, 2, 2, 1, 2, 3, 4, 1, 1, 2, 3, 1, 3, 1, 2, 2, 6, 2, 3, 5, 2, 6, 1, 4, 1, 2, 3, 1, 2, 3, 4, 1, 3, 4, 2, 3, 2, 1, 3, 1, 2, 3, 1, 2, 3, 5, 1, 2, 1, 2, 1, 2, 1, 2, 3, 2, 1, 3, 1, 4, 2, 1, 2, 3, 2, 1, 3, 1, 3, 4, 1, 1, 2, 3, 4, 1, 2, 3, 6, 1, 3, 2, 1, 3, 5, 1, 2, 3, 1, 4, 1, 2, 3, 3, 1, 2, 3, 4, 1, 2, 3, 2, 3, 1, 2, 3, 1, 2, 2, 1, 2, 3, 4, 2, 3, 4, 1, 3, 2, 2, 3, 5, 1, 2, 3, 3, 5, 1, 2, 3, 4, 1, 2, 3, 4, 1, 2, 3, 4, 2, 4, 3, 1, 2, 3, 3, 1, 2, 3, 4, 1, 3, 1, 2, 3, 1, 4, 1, 2, 4, 2, 1, 2, 2, 1, 3, 3, 2, 3, 2, 5, 6, 1, 2, 3, 4, 1, 4, 2, 3, 1, 3, 1, 3, 1, 2, 1, 2, 3, 3, 1, 2, 3, 4, 1, 3, 2, 1, 2, 3, 4, 1, 3, 5, 2, 1, 3, 3, 1, 2, 3, 1, 2, 3, 2, 1, 2, 3, 1, 3, 4, 1, 1, 2, 3, 5, 1, 2, 4], \"Freq\": [0.9252777885800508, 0.06609127061286077, 0.9166315846565543, 0.8526172623898617, 0.18309792803809244, 0.18309792803809244, 0.18309792803809244, 0.5492937841142773, 0.6760015487214139, 0.07511128319126822, 0.15022256638253645, 0.8011217439940576, 0.5164142550201926, 0.17213808500673083, 0.17213808500673083, 0.8619497014655071, 0.9616865919191397, 0.3912882760929918, 0.5217177014573224, 0.40879521554198234, 0.20439760777099117, 0.20439760777099117, 0.07565766141769728, 0.83223427559467, 0.07565766141769728, 0.10897958562305961, 0.8173468921729471, 0.054489792811529804, 0.22917202945689905, 0.11458601472844952, 0.5729300736422476, 0.05729300736422476, 0.39626607782425005, 0.39626607782425005, 0.9330103990069356, 0.9311339238921016, 0.8505434570970061, 0.04797327009865507, 0.8155455916771361, 0.04797327009865507, 0.04797327009865507, 0.919315709075573, 0.25932344596736023, 0.5186468919347205, 0.25932344596736023, 0.1752604879369961, 0.3505209758739922, 0.4089411385196576, 0.05842016264566537, 0.9248663434479163, 0.1329054477827383, 0.863885410587799, 0.19902058507807074, 0.3980411701561415, 0.19902058507807074, 0.7357469288145618, 0.16978775280336045, 0.11319183520224028, 0.31787210451772324, 0.31787210451772324, 0.15893605225886162, 0.15893605225886162, 0.8448802499811886, 0.49916451636924897, 0.37437338727693675, 0.27651899093972016, 0.13825949546986008, 0.27651899093972016, 0.13825949546986008, 0.15311842972116227, 0.4593552891634868, 0.30623685944232454, 0.8830953291692535, 0.8238101635889401, 0.8215131971052712, 0.07262710577520541, 0.7262710577520541, 0.14525421155041082, 0.22017257753869046, 0.6605177326160714, 0.07339085917956349, 0.07695162562058185, 0.07695162562058185, 0.8464678818264003, 0.21662563274488533, 0.649876898234656, 0.22349572703501783, 0.29799430271335714, 0.44699145407003565, 0.1650039461424247, 0.6600157845696988, 0.5617752058835724, 0.2808876029417862, 0.3518810149988116, 0.4691746866650821, 0.11729367166627053, 0.14923235888126463, 0.7461617944063231, 0.07461617944063231, 0.8599515791515062, 0.9340997316767287, 0.47473806341370284, 0.23736903170685142, 0.20345917003444408, 0.06781972334481469, 0.1592469767633368, 0.6369879070533472, 0.8118517228373171, 0.922116261958489, 0.8826844354438461, 0.8007759235290355, 0.8830808038321786, 0.8492670487723258, 0.08492670487723258, 0.18399399080903847, 0.7359759632361539, 0.8987061467336251, 0.0898706146733625, 0.211712721788311, 0.7409945262590885, 0.8303585062400421, 0.7230349825176735, 0.1446069965035347, 0.07230349825176735, 0.3034154568826442, 0.3034154568826442, 0.1517077284413221, 0.1517077284413221, 0.22486136325062367, 0.22486136325062367, 0.44972272650124734, 0.07746225860703922, 0.8520848446774313, 0.8744473444403763, 0.9204411560687423, 0.03835171483619759, 0.03835171483619759, 0.42201452667415273, 0.23445251481897375, 0.14067150889138424, 0.23445251481897375, 0.927299075116056, 0.4956319553022775, 0.13517235144607567, 0.27034470289215135, 0.09011490096405045, 0.581134246323086, 0.290567123161543, 0.6001781157057178, 0.08573973081510253, 0.2572191924453076, 0.042869865407551264, 0.06732154742322345, 0.9088408902135166, 0.08740108387739107, 0.6992086710191285, 0.17480216775478213, 0.7841766357387651, 0.9254084526412977, 0.3692733321869375, 0.5169826650617124, 0.8984459338827243, 0.5693991034118238, 0.14234977585295594, 0.2846995517059119, 0.7247618148593952, 0.14495236297187902, 0.14495236297187902, 0.4074647754525602, 0.4074647754525602, 0.1607947942797082, 0.6431791771188328, 0.8341624015203717, 0.9028285964762189, 0.10031428849735766, 0.06710620590916473, 0.5368496472733179, 0.4026372354549884, 0.24950629170603394, 0.4990125834120679, 0.24950629170603394, 0.6474598381059712, 0.1618649595264928, 0.1618649595264928, 0.8003095927898344, 0.3639066372329137, 0.48520884964388494, 0.8106200777303852, 0.10132750971629816, 0.05066375485814908, 0.5825264949498482, 0.10591390817269968, 0.2647847704317492, 0.05295695408634984, 0.6162939517409093, 0.23111023190284097, 0.11555511595142048, 0.32799736432339804, 0.10933245477446601, 0.43732981909786406, 0.8446859819922543, 0.07288279699315015, 0.8745935639178017, 0.13987339329779935, 0.6993669664889968, 0.17626494334658183, 0.7931922450596183, 0.5356685321395632, 0.2678342660697816, 0.20813971857888813, 0.7631789681225898, 0.21658681431004992, 0.14439120954003326, 0.577564838160133, 0.9024608166778534, 0.9561403821046743, 0.9551403488344413, 0.8899498406493954, 0.9027581436058453, 0.8512225706430465, 0.30893676802655073, 0.6178735360531015, 0.07723419200663768, 0.5970875306594978, 0.9428085811809351, 0.8254405666324287, 0.8747844186723661, 0.9603511785500165, 0.9273220963594662, 0.21328669309279202, 0.6398600792783761, 0.8777214029791073, 0.2478446101779794, 0.5576503729004536, 0.1239223050889897, 0.3227786714970711, 0.5917608977446305, 0.05379644524951186, 0.6480480592361723, 0.036002669957565125, 0.288021359660521, 0.9041679720092489, 0.08219708836447717, 0.5043951983605349, 0.05043951983605349, 0.40351615868842794, 0.16041795006534426, 0.7218807752940491, 0.08020897503267213, 0.1384869209097776, 0.2077303813646664, 0.6231911440939992, 0.84365284653767, 0.6463320858648705, 0.05875746235135186, 0.23502984940540744, 0.1369654696442862, 0.8217928178657171, 0.9410131051018248, 0.8528303674230217, 0.73001891594996, 0.06083490966249667, 0.18250472898749, 0.07819805042990229, 0.7037824538691206, 0.15639610085980457, 0.24070248447026402, 0.2750885536803017, 0.24070248447026402, 0.2063164152602263, 0.1731377867915817, 0.7791200405621177, 0.8812020468606234, 0.04958730526179704, 0.9421587999741438, 0.7813420059228233, 0.11162028656040333, 0.8579423724747763, 0.7826177810250176, 0.16546253466678126, 0.7170043168893855, 0.11030835644452085, 0.3352620315917627, 0.5028930473876441, 0.17077455849740428, 0.5123236754922129, 0.17077455849740428, 0.7988510130337451, 0.8928360392343084, 0.06882198197033317, 0.6882198197033316, 0.20646594591099948, 0.7509625719755002, 0.09387032149693753, 0.09387032149693753, 0.0951186623049592, 0.7609492984396736, 0.82413372351663, 0.41029900069756453, 0.18649954577162026, 0.2237994549259443, 0.1491996366172962, 0.9049241382517293, 0.13416043720462947, 0.8049626232277769, 0.06708021860231474, 0.11779178296565056, 0.7067506977939033, 0.18025760359018975, 0.721030414360759, 0.2777069472324006, 0.6479828768756013, 0.22693879245302073, 0.0756462641510069, 0.6808163773590622, 0.5039968079866513, 0.37799760598998844, 0.1869575549783175, 0.74783021991327, 0.9014365744054356, 0.7985388138063555, 0.19963470345158887, 0.1653840010816127, 0.3307680021632254, 0.4961520032448381, 0.6923819648847753, 0.38685640988504966, 0.5802846148275744, 0.8532195261670676, 0.07228110791191483, 0.8673732949429781, 0.8731871910743221, 0.8925614234981137, 0.830024800896011, 0.20416062274242675, 0.4083212454848535, 0.4083212454848535, 0.21896133605997523, 0.21896133605997523, 0.21896133605997523, 0.21896133605997523, 0.1055401853792304, 0.8443214830338432, 0.11674227933076546, 0.8171959553153583, 0.9029913919325219, 0.8243904200333636, 0.8050023935148651, 0.05031264959467907, 0.1509379487840372, 0.9491818288582129, 0.37445504498535337, 0.5991280719765654, 0.9372653464876975, 0.9199567234993957, 0.8157994249447647, 0.11255698066971015, 0.11255698066971015, 0.787898864687971, 0.5980458167946179, 0.6095976274628795, 0.20319920915429315, 0.050125587254091095, 0.050125587254091095, 0.8521349833195486, 0.9230308127490233, 0.34493675460971734, 0.43117094326214667, 0.17246837730485867, 0.04311709432621467, 0.8684560591066681, 0.3491645469853151, 0.3491645469853151, 0.17458227349265756, 0.7664754274975021, 0.127745904582917, 0.8420167872320345, 0.2139621086309804, 0.6418863258929411, 0.2139621086309804, 0.6354042172416333, 0.048877247480125646, 0.2443862374006282, 0.31639775740623627, 0.5273295956770604, 0.7869695815560204, 0.11242422593657433, 0.8671879735792638, 0.9082137972011728, 0.0773271175002951, 0.4639627050017706, 0.0773271175002951, 0.38663558750147553, 0.23598585532387695, 0.23598585532387695, 0.23598585532387695, 0.869360544318089, 0.0724467120265074, 0.5898861192725627, 0.29494305963628137, 0.09831435321209378, 0.94661096842726, 0.8015414557621123, 0.8096316134603179, 0.13451440568920844, 0.0896762704594723, 0.7622482989055146, 0.04483813522973615, 0.8747493557636284, 0.6050590424754366, 0.15126476061885916, 0.39770600806135764, 0.39770600806135764, 0.8969493600990535, 0.7092107625610101, 0.11820179376016836, 0.11820179376016836, 0.6323433221869118, 0.2975733280879585, 0.03719666601099481, 0.8124001089295068, 0.11605715841850096, 0.4819481940293626, 0.25951056601581063, 0.222437628013552, 0.037072938002258665, 0.26657197424660173, 0.4265151587945628, 0.26657197424660173, 0.8939077006925895, 0.2158289454335242, 0.2697861817919053, 0.16187170907514314, 0.37770065450866736, 0.2522801907250788, 0.7568405721752364, 0.8402974519004774, 0.11580087694761834, 0.8106061386333284, 0.8015883933965723, 0.8899415344721646, 0.08395508283143636, 0.08395508283143636, 0.08395508283143636, 0.7555957454829273, 0.16698666810334595, 0.8349333405167298, 0.8089764867921139, 0.6154383529055638, 0.3077191764527819, 0.8246840846210932, 0.8912026709773738, 0.5718837907681301, 0.19062793025604338, 0.19062793025604338, 0.882576184260022, 0.942089083200061, 0.06729207737143293, 0.9200464836597673, 0.1711180158114412, 0.7700310711514854, 0.9289191054755647, 0.3885484784426648, 0.3885484784426648, 0.13466194408884966, 0.8079716645330979, 0.9309409225332269, 0.500778933982939, 0.2276267881740632, 0.2276267881740632, 0.04552535763481264, 0.9594564532446624, 0.9319222665171548, 0.7129448971995472, 0.1782362242998868, 0.8173381030324619, 0.9038950464387073, 0.18742228602738117, 0.7496891441095247, 0.5599284126207215, 0.27996420631036073, 0.230215261016894, 0.230215261016894, 0.460430522033788, 0.8776713366360321, 0.3027829975479324, 0.0756957493869831, 0.5298702457088816, 0.0756957493869831, 0.0910757647301802, 0.8196818825716219, 0.8102351033603093, 0.26685523284511214, 0.4744093028357549, 0.05930116285446936, 0.20755406999064277, 0.9434108311325391, 0.6000993186055436, 0.20003310620184786, 0.7499339547436338, 0.08617342797904343, 0.9048209937799561, 0.7828689824501964, 0.18616206221849377, 0.18616206221849377, 0.37232412443698754, 0.19437270103046406, 0.19437270103046406, 0.3887454020609281, 0.9271758639385673, 0.2767005251389487, 0.05534010502778975, 0.6087411553056872, 0.09743512511360655, 0.8769161260224589, 0.7869773795997801, 0.951723450856338, 0.17941652875761965, 0.3588330575152393, 0.23922203834349287, 0.17941652875761965, 0.08529808010878594, 0.04264904005439297, 0.8529808010878595], \"Term\": [\"\\uac00\\uaca9\", \"\\uac00\\uaca9\", \"\\uac00\\uad6c\", \"\\uac00\\uc218\", \"\\uac00\\uc2a4\", \"\\uac00\\uc2a4\", \"\\uac00\\uc2a4\", \"\\uac00\\uc2a4\", \"\\uac00\\uc871\", \"\\uac00\\uc871\", \"\\uac00\\uc871\", \"\\uac10\\ub9ac\", \"\\uac10\\uc815\", \"\\uac10\\uc815\", \"\\uac10\\uc815\", \"\\uac15\\ub989\", \"\\uac24\\ub7ed\\uc2dc\", \"\\uac70\\ubd80\", \"\\uac70\\ubd80\", \"\\uac74\\uc124\", \"\\uac74\\uc124\", \"\\uac74\\uc124\", \"\\uac80\\ucc30\", \"\\uac80\\ucc30\", \"\\uac80\\ucc30\", \"\\uac8c\\uc784\", \"\\uac8c\\uc784\", \"\\uac8c\\uc784\", \"\\uacb0\\uacfc\", \"\\uacb0\\uacfc\", \"\\uacb0\\uacfc\", \"\\uacb0\\uacfc\", \"\\uacb0\\ub860\", \"\\uacb0\\ub860\", \"\\uacb0\\uc2b9\", \"\\uacb0\\ud63c\", \"\\uacb0\\ud63c\\uc2dd\", \"\\uacbd\\uae30\", \"\\uacbd\\uae30\", \"\\uacbd\\uae30\", \"\\uacbd\\uae30\", \"\\uacbd\\ub9c8\", \"\\uacbd\\uc601\", \"\\uacbd\\uc601\", \"\\uacbd\\uc601\", \"\\uacbd\\uc6b0\", \"\\uacbd\\uc6b0\", \"\\uacbd\\uc6b0\", \"\\uacbd\\uc6b0\", \"\\uacbd\\uc8fc\", \"\\uacbd\\ucc30\", \"\\uacbd\\ucc30\", \"\\uacc4\\uc57d\", \"\\uacc4\\uc57d\", \"\\uacc4\\uc57d\", \"\\uacf5\\uac1c\", \"\\uacf5\\uac1c\", \"\\uacf5\\uac1c\", \"\\uacf5\\uc0ac\", \"\\uacf5\\uc0ac\", \"\\uacf5\\uc0ac\", \"\\uacf5\\uc0ac\", \"\\uacf5\\ucc9c\", \"\\uad00\\uad11\\uac1d\", \"\\uad00\\uad11\\uac1d\", \"\\uad00\\uce21\", \"\\uad00\\uce21\", \"\\uad00\\uce21\", \"\\uad00\\uce21\", \"\\uad6c\\uae00\", \"\\uad6c\\uae00\", \"\\uad6c\\uae00\", \"\\uad6c\\uc18d\", \"\\uad6c\\uc9c4\", \"\\uad6d\\uac00\\ub300\\ud45c\", \"\\uad6d\\ub0b4\", \"\\uad6d\\ub0b4\", \"\\uad6d\\ub0b4\", \"\\uad6d\\uc81c\", \"\\uad6d\\uc81c\", \"\\uad6d\\uc81c\", \"\\uad6d\\ud68c\", \"\\uad6d\\ud68c\", \"\\uad6d\\ud68c\", \"\\uad6d\\ud68c\\uc758\\uc6d0\", \"\\uad6d\\ud68c\\uc758\\uc6d0\", \"\\uadf8\\ub8f9\", \"\\uadf8\\ub8f9\", \"\\uadf8\\ub8f9\", \"\\uae08\\uac10\\uc6d0\", \"\\uae08\\uac10\\uc6d0\", \"\\uae08\\uc561\", \"\\uae08\\uc561\", \"\\uae30\\ub2a5\", \"\\uae30\\ub2a5\", \"\\uae30\\ub2a5\", \"\\uae30\\ub85d\", \"\\uae30\\ub85d\", \"\\uae30\\ub85d\", \"\\uae30\\uc18c\", \"\\uae30\\uc628\", \"\\uae30\\uc790\", \"\\uae30\\uc790\", \"\\uae30\\uc790\", \"\\uae30\\uc790\", \"\\uae40\\uacbd\\uc218\", \"\\uae40\\uacbd\\uc218\", \"\\uae40\\uc131\\ud0dc\", \"\\uae40\\uc5f0\\uc544\", \"\\uae40\\uc815\\uc740\", \"\\ub098\\ub4e4\\ubaa9\", \"\\ub0a0\\uc528\", \"\\ub0a8\\ubd81\", \"\\ub0a8\\ubd81\", \"\\ub0a8\\uc131\", \"\\ub0a8\\uc131\", \"\\ub0a8\\ud3b8\", \"\\ub0a8\\ud3b8\", \"\\ub0b4\\uc77c\", \"\\ub0b4\\uc77c\", \"\\ub178\\uc870\", \"\\ub17c\\ub780\", \"\\ub17c\\ub780\", \"\\ub17c\\ub780\", \"\\ub2e8\\uacc4\", \"\\ub2e8\\uacc4\", \"\\ub2e8\\uacc4\", \"\\ub2e8\\uacc4\", \"\\ub2e8\\uc9c0\", \"\\ub2e8\\uc9c0\", \"\\ub2e8\\uc9c0\", \"\\ub2ec\\ub7ec\", \"\\ub2ec\\ub7ec\", \"\\ub2f4\\ubc30\", \"\\ub300\\ud1b5\\ub839\", \"\\ub300\\ud1b5\\ub839\", \"\\ub300\\ud1b5\\ub839\", \"\\ub300\\ud45c\", \"\\ub300\\ud45c\", \"\\ub300\\ud45c\", \"\\ub300\\ud45c\", \"\\ub300\\ud45c\\ud300\", \"\\ub300\\ud55c\", \"\\ub300\\ud55c\", \"\\ub300\\ud55c\", \"\\ub300\\ud55c\", \"\\ub300\\ud55c\\ud56d\\uacf5\", \"\\ub300\\ud55c\\ud56d\\uacf5\", \"\\ub300\\ud574\", \"\\ub300\\ud574\", \"\\ub300\\ud574\", \"\\ub300\\ud574\", \"\\ub300\\ud68c\", \"\\ub300\\ud68c\", \"\\ub313\\uae00\", \"\\ub313\\uae00\", \"\\ub313\\uae00\", \"\\ub3c4\\uc2dc\\ubc14\", \"\\ub4dc\\ub77c\\ub9c8\", \"\\ub4dc\\ub8e8\", \"\\ub4dc\\ub8e8\", \"\\ub514\\uc2a4\\ud50c\\ub808\\uc774\", \"\\ub514\\uc790\\uc778\", \"\\ub514\\uc790\\uc778\", \"\\ub514\\uc790\\uc778\", \"\\ub77c\\uba70\", \"\\ub77c\\uba70\", \"\\ub77c\\uba70\", \"\\ub77c\\uc6b4\\ub4dc\", \"\\ub77c\\uc6b4\\ub4dc\", \"\\ub86f\\ub370\", \"\\ub86f\\ub370\", \"\\ub9ac\\ub2c8\\uc9c0\", \"\\ub9c8\\uc74c\", \"\\ub9c8\\uc74c\", \"\\ub9cc\\uc6d0\", \"\\ub9cc\\uc6d0\", \"\\ub9cc\\uc6d0\", \"\\ub9e4\\uac01\", \"\\ub9e4\\uac01\", \"\\ub9e4\\uac01\", \"\\ub9e4\\uccb4\", \"\\ub9e4\\uccb4\", \"\\ub9e4\\uccb4\", \"\\ub9e4\\ucd9c\", \"\\ubaa8\\ubc14\\uc77c\", \"\\ubaa8\\ubc14\\uc77c\", \"\\ubaa8\\uc2b5\", \"\\ubaa8\\uc2b5\", \"\\ubaa8\\uc2b5\", \"\\ubb38\\uc81c\", \"\\ubb38\\uc81c\", \"\\ubb38\\uc81c\", \"\\ubb38\\uc81c\", \"\\ubbf8\\uad6d\", \"\\ubbf8\\uad6d\", \"\\ubbf8\\uad6d\", \"\\ubbf8\\ub798\", \"\\ubbf8\\ub798\", \"\\ubbf8\\ub798\", \"\\ubbf8\\uc138\\uba3c\\uc9c0\", \"\\ubbfc\\uc8fc\\ub2f9\", \"\\ubbfc\\uc8fc\\ub2f9\", \"\\ubc14\\ub2e4\", \"\\ubc14\\ub2e4\", \"\\ubc14\\uc774\\uc624\", \"\\ubc14\\uc774\\uc624\", \"\\ubc18\\ubc1c\", \"\\ubc18\\ubc1c\", \"\\ubc1c\\uacac\", \"\\ubc1c\\uacac\", \"\\ubc1c\\uc0dd\", \"\\ubc1c\\uc0dd\", \"\\ubc1c\\uc0dd\", \"\\ubc1c\\uc5b8\", \"\\ubc29\\uc1a1\", \"\\ubc30\\uc6b0\", \"\\ubc30\\ud2c0\", \"\\ubc94\\ud589\", \"\\ubc95\\uc6d0\", \"\\ubcd1\\uc6d0\", \"\\ubcd1\\uc6d0\", \"\\ubcd1\\uc6d0\", \"\\ubcf4\\ud3b8\", \"\\ubcf8\\ud68c\\uc758\", \"\\ubd80\\ub3d9\\uc0b0\", \"\\ubd81\\ubbf8\", \"\\ubd81\\ud55c\", \"\\ubd84\\uc591\", \"\\ube44\\ub9ac\", \"\\ube44\\ub9ac\", \"\\ube44\\ud575\\ud654\", \"\\uc0ac\\uac74\", \"\\uc0ac\\uac74\", \"\\uc0ac\\uac74\", \"\\uc0ac\\uace0\", \"\\uc0ac\\uace0\", \"\\uc0ac\\uace0\", \"\\uc0ac\\ub78c\", \"\\uc0ac\\ub78c\", \"\\uc0ac\\ub78c\", \"\\uc0ac\\ub791\", \"\\uc0ac\\ub791\", \"\\uc0ac\\uc2e4\", \"\\uc0ac\\uc2e4\", \"\\uc0ac\\uc2e4\", \"\\uc0ac\\uc5c5\", \"\\uc0ac\\uc5c5\", \"\\uc0ac\\uc5c5\", \"\\uc0ac\\uc6a9\", \"\\uc0ac\\uc6a9\", \"\\uc0ac\\uc6a9\", \"\\uc0ac\\uc9c1\\uc11c\", \"\\uc0ac\\uc9c4\", \"\\uc0ac\\uc9c4\", \"\\uc0ac\\uc9c4\", \"\\uc0b4\\ud574\", \"\\uc0b4\\ud574\", \"\\uc0c1\\uae08\", \"\\uc0c1\\uc2b9\", \"\\uc0dd\\uac01\", \"\\uc0dd\\uac01\", \"\\uc0dd\\uac01\", \"\\uc11c\\ube44\\uc2a4\", \"\\uc11c\\ube44\\uc2a4\", \"\\uc11c\\ube44\\uc2a4\", \"\\uc11c\\uc6b8\", \"\\uc11c\\uc6b8\", \"\\uc11c\\uc6b8\", \"\\uc11c\\uc6b8\", \"\\uc120\\uac70\", \"\\uc120\\uac70\", \"\\uc120\\uace0\", \"\\uc120\\uc218\", \"\\uc120\\uc218\", \"\\uc120\\uc5b8\", \"\\uc120\\uc5b8\", \"\\uc12d\\ucde8\", \"\\uc131\\ud3ed\\ud589\", \"\\uc138\\uacc4\", \"\\uc138\\uacc4\", \"\\uc138\\uacc4\", \"\\uc138\\uae08\", \"\\uc138\\uae08\", \"\\uc138\\ub300\", \"\\uc138\\ub300\", \"\\uc138\\ub300\", \"\\uc138\\ud3ec\", \"\\uc18c\\uc18d\\uc0ac\", \"\\uc218\\uc0ac\", \"\\uc218\\uc0ac\", \"\\uc218\\uc0ac\", \"\\uc2a4\\ub9c8\\ud2b8\\ud3f0\", \"\\uc2a4\\ub9c8\\ud2b8\\ud3f0\", \"\\uc2a4\\ub9c8\\ud2b8\\ud3f0\", \"\\uc2a4\\ud3ec\\uce20\", \"\\uc2a4\\ud3ec\\uce20\", \"\\uc2b9\\ubd80\", \"\\uc2dc\\uac04\", \"\\uc2dc\\uac04\", \"\\uc2dc\\uac04\", \"\\uc2dc\\uac04\", \"\\uc2dc\\uc704\", \"\\uc2dc\\uc7a5\", \"\\uc2dc\\uc7a5\", \"\\uc2dc\\uc7a5\", \"\\uc2e0\\uace0\", \"\\uc2e0\\uace0\", \"\\uc544\\uc2dc\\uc544\", \"\\uc544\\uc2dc\\uc544\", \"\\uc544\\uc774\\ud3f0\", \"\\uc544\\uc774\\ud3f0\", \"\\uc544\\ud30c\\ud2b8\", \"\\uc544\\ud30c\\ud2b8\", \"\\uc544\\ud30c\\ud2b8\", \"\\uc560\\ud50c\", \"\\uc560\\ud50c\", \"\\uc57c\\ub2f9\", \"\\uc57c\\ub2f9\", \"\\uc5b4\\uba38\\ub2c8\", \"\\uc5b5\\uc6d0\", \"\\uc5b5\\uc6d0\", \"\\uc5d0\\ub108\\uc9c0\", \"\\uc5d0\\ub108\\uc9c0\", \"\\uc5d0\\ub108\\uc9c0\", \"\\uc5ec\\ub2f9\", \"\\uc5ec\\uc131\", \"\\uc5ec\\uc131\", \"\\uc5ec\\uc57c\", \"\\uc5f0\\uad6c\", \"\\uc5f0\\uad6c\", \"\\uc5f0\\ub9f9\", \"\\uc608\\ub2a5\", \"\\uc608\\ubc29\", \"\\uc608\\uc57d\", \"\\uc608\\uc57d\", \"\\uc608\\uc57d\", \"\\uc608\\uce21\", \"\\uc608\\uce21\", \"\\uc608\\uce21\", \"\\uc608\\uce21\", \"\\uc624\\ud508\", \"\\uc624\\ud508\", \"\\uc62c\\ub9bc\\ud53d\", \"\\uc62c\\ub9bc\\ud53d\", \"\\uc678\\uad50\", \"\\uc694\\uae08\", \"\\uc6b0\\ub9ac\", \"\\uc6b0\\ub9ac\", \"\\uc6b0\\ub9ac\", \"\\uc6b0\\uc2b9\", \"\\uc6b4\\ub3d9\", \"\\uc6b4\\ub3d9\", \"\\uc6c3\\uc74c\", \"\\uc6d0\\ub0b4\\ub300\\ud45c\", \"\\uc6d4\\ub4dc\\ucef5\", \"\\uc704\\ud5d8\", \"\\uc704\\ud5d8\", \"\\uc704\\ud5d8\", \"\\uc720\\uac00\", \"\\uc74c\\uc545\", \"\\uc74c\\uc545\", \"\\uc758\\uc6d0\", \"\\uc758\\uc6d0\", \"\\uc758\\uc6d0\", \"\\uc774\\ub780\", \"\\uc774\\ubc88\", \"\\uc774\\ubc88\", \"\\uc774\\ubc88\", \"\\uc774\\ubc88\", \"\\uc774\\uc2a4\\ub77c\\uc5d8\", \"\\uc774\\uc6a9\\uc790\", \"\\uc774\\uc6a9\\uc790\", \"\\uc774\\uc6a9\\uc790\", \"\\uc774\\uc81c\", \"\\uc774\\uc81c\", \"\\uc778\\uc0c1\", \"\\uc77c\\uac00\", \"\\uc77c\\uac00\", \"\\uc77c\\uac00\", \"\\uc790\\uc2e0\", \"\\uc790\\uc2e0\", \"\\uc790\\uc2e0\", \"\\uc790\\uc720\", \"\\uc790\\uc720\", \"\\uc7a5\\uad00\", \"\\uc7a5\\uad00\", \"\\uc7ac\\uc0b0\", \"\\uc7ac\\ud310\", \"\\uc804\\uad6d\", \"\\uc804\\uad6d\", \"\\uc804\\uad6d\", \"\\uc804\\uad6d\", \"\\uc804\\uba74\", \"\\uc804\\uba74\", \"\\uc804\\uba74\", \"\\uc804\\uc790\", \"\\uc804\\uc790\", \"\\uc815\\ubd80\", \"\\uc815\\ubd80\", \"\\uc815\\ubd80\", \"\\uc815\\uc0c1\\ud68c\\ub2f4\", \"\\uc815\\ud604\", \"\\uc870\\uad50\\uc0ac\", \"\\uc870\\uc0ac\", \"\\uc870\\uc0ac\", \"\\uc870\\uc0ac\", \"\\uc870\\uc0ac\", \"\\uc870\\uc6d0\", \"\\uc870\\uc791\", \"\\uc870\\uc791\", \"\\uc874\\uc7ac\", \"\\uc874\\uc7ac\", \"\\uc885\\ubaa9\", \"\\uc8fc\\ud0dd\", \"\\uc8fc\\ud0dd\", \"\\uc8fc\\ud0dd\", \"\\uc911\\uad6d\", \"\\uc911\\uad6d\", \"\\uc911\\uad6d\", \"\\uc9c0\\uad6c\", \"\\uc9c0\\uad6c\", \"\\uc9c0\\ub09c\", \"\\uc9c0\\ub09c\", \"\\uc9c0\\ub09c\", \"\\uc9c0\\ub09c\", \"\\uc9c0\\ub09c\\ud574\", \"\\uc9c0\\ub09c\\ud574\", \"\\uc9c0\\ub09c\\ud574\", \"\\uc9c0\\ubc29\\uc120\\uac70\", \"\\uc9c0\\uc5ed\", \"\\uc9c0\\uc5ed\", \"\\uc9c0\\uc5ed\", \"\\uc9c0\\uc5ed\", \"\\uc9c1\\uc2a4\", \"\\uc9c1\\uc2a4\", \"\\uc9c4\\uc220\", \"\\uc9c4\\ucd9c\", \"\\uc9c4\\ucd9c\", \"\\uc9c8\\ud658\", \"\\uc9d5\\uc5ed\", \"\\ucc98\\ub9ac\", \"\\ucc98\\ub9ac\", \"\\ucc98\\ub9ac\", \"\\ucc98\\ub9ac\", \"\\ucc98\\ubc8c\", \"\\ucc98\\ubc8c\", \"\\uccb4\\uc81c\", \"\\ucd08\\uacfc\", \"\\ucd08\\uacfc\", \"\\ucd1d\\ub9ac\", \"\\ucd9c\\ub9c8\", \"\\ucd9c\\ubc1c\", \"\\ucd9c\\ubc1c\", \"\\ucd9c\\ubc1c\", \"\\ucd9c\\uc2dc\", \"\\ucd9c\\uc5f0\", \"\\ucd9c\\uc5f0\", \"\\ucd9c\\uc804\", \"\\uce58\\ub8cc\", \"\\uce58\\ub8cc\", \"\\uce58\\ub9e4\", \"\\ucf58\\ud150\\uce20\", \"\\ucf58\\ud150\\uce20\", \"\\ud0dc\\uc591\", \"\\ud0dc\\uc591\", \"\\ud0dd\\uc2dc\", \"\\ud1b5\\ud574\", \"\\ud1b5\\ud574\", \"\\ud1b5\\ud574\", \"\\ud1b5\\ud574\", \"\\ud2b8\\ub7fc\\ud504\", \"\\ud2b9\\uac80\", \"\\ud310\\ub9e4\", \"\\ud310\\ub9e4\", \"\\ud310\\ubb38\\uc810\", \"\\ud310\\uc0ac\", \"\\ud3ed\\ud589\", \"\\ud3ed\\ud589\", \"\\ud480\\uc774\", \"\\ud480\\uc774\", \"\\ud50c\\ub7ab\\ud3fc\", \"\\ud50c\\ub7ab\\ud3fc\", \"\\ud50c\\ub7ab\\ud3fc\", \"\\ud53c\\ubd80\", \"\\ud53c\\ud574\", \"\\ud53c\\ud574\", \"\\ud53c\\ud574\", \"\\ud53c\\ud574\", \"\\ud53c\\ud574\\uc790\", \"\\ud53c\\ud574\\uc790\", \"\\ud558\\uc774\\ub2c9\\uc2a4\", \"\\ud55c\\uad6d\", \"\\ud55c\\uad6d\", \"\\ud55c\\uad6d\", \"\\ud55c\\uad6d\", \"\\ud55c\\ubc18\\ub3c4\", \"\\ud55c\\uc9c4\", \"\\ud55c\\uc9c4\", \"\\ud560\\uc778\", \"\\ud610\\uc758\", \"\\ud610\\uc758\", \"\\ud615\\uc0ac\", \"\\ud615\\ud0dc\", \"\\ud615\\ud0dc\", \"\\ud615\\ud0dc\", \"\\ud654\\uba74\", \"\\ud654\\uba74\", \"\\ud654\\uba74\", \"\\ud654\\uc0b0\", \"\\ud655\\uc778\", \"\\ud655\\uc778\", \"\\ud655\\uc778\", \"\\ud658\\uc790\", \"\\ud658\\uc790\", \"\\ud68c\\uacc4\", \"\\ud68c\\ub2f4\", \"\\ud68c\\uc7a5\", \"\\ud68c\\uc7a5\", \"\\ud68c\\uc7a5\", \"\\ud68c\\uc7a5\", \"\\ud6c4\\ubcf4\", \"\\ud6c4\\ubcf4\", \"\\ud6c4\\ubcf4\"]}, \"R\": 30, \"lambda.step\": 0.01, \"plot.opts\": {\"xlab\": \"PC1\", \"ylab\": \"PC2\"}, \"topic.order\": [5, 6, 1, 3, 4, 2]};\n",
              "\n",
              "function LDAvis_load_lib(url, callback){\n",
              "  var s = document.createElement('script');\n",
              "  s.src = url;\n",
              "  s.async = true;\n",
              "  s.onreadystatechange = s.onload = callback;\n",
              "  s.onerror = function(){console.warn(\"failed to load library \" + url);};\n",
              "  document.getElementsByTagName(\"head\")[0].appendChild(s);\n",
              "}\n",
              "\n",
              "if(typeof(LDAvis) !== \"undefined\"){\n",
              "   // already loaded: just create the visualization\n",
              "   !function(LDAvis){\n",
              "       new LDAvis(\"#\" + \"ldavis_el8251362358690713126759801682\", ldavis_el8251362358690713126759801682_data);\n",
              "   }(LDAvis);\n",
              "}else if(typeof define === \"function\" && define.amd){\n",
              "   // require.js is available: use it to load d3/LDAvis\n",
              "   require.config({paths: {d3: \"https://d3js.org/d3.v5\"}});\n",
              "   require([\"d3\"], function(d3){\n",
              "      window.d3 = d3;\n",
              "      LDAvis_load_lib(\"https://cdn.jsdelivr.net/gh/bmabey/pyLDAvis@3.4.0/pyLDAvis/js/ldavis.v3.0.0.js\", function(){\n",
              "        new LDAvis(\"#\" + \"ldavis_el8251362358690713126759801682\", ldavis_el8251362358690713126759801682_data);\n",
              "      });\n",
              "    });\n",
              "}else{\n",
              "    // require.js not available: dynamically load d3 & LDAvis\n",
              "    LDAvis_load_lib(\"https://d3js.org/d3.v5.js\", function(){\n",
              "         LDAvis_load_lib(\"https://cdn.jsdelivr.net/gh/bmabey/pyLDAvis@3.4.0/pyLDAvis/js/ldavis.v3.0.0.js\", function(){\n",
              "                 new LDAvis(\"#\" + \"ldavis_el8251362358690713126759801682\", ldavis_el8251362358690713126759801682_data);\n",
              "            })\n",
              "         });\n",
              "}\n",
              "</script>"
            ]
          },
          "metadata": {},
          "execution_count": 8
        }
      ]
    },
    {
      "cell_type": "code",
      "source": [],
      "metadata": {
        "id": "enZnjjnSefK5"
      },
      "execution_count": null,
      "outputs": []
    }
  ]
}