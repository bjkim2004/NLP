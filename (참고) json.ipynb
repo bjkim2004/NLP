{
  "nbformat": 4,
  "nbformat_minor": 0,
  "metadata": {
    "colab": {
      "provenance": []
    },
    "kernelspec": {
      "name": "python3",
      "display_name": "Python 3"
    },
    "language_info": {
      "name": "python"
    }
  },
  "cells": [
    {
      "cell_type": "code",
      "source": [
        "import json\n",
        "\n",
        "json_data = \"\"\"\n",
        "{\n",
        "    \"name\": \"김철수\",\n",
        "    \"age\": 25,\n",
        "    \"is_student\": true,\n",
        "    \"grade\": null,\n",
        "    \"score\": 98.5,\n",
        "    \"hobbies\": [\"독서\", \"영화 감상\", \"코딩\"],\n",
        "    \"address\": {\n",
        "        \"city\": \"부산\",\n",
        "        \"zip_code\": \"48512\"\n",
        "    }\n",
        "}\n",
        "\"\"\""
      ],
      "metadata": {
        "id": "pzaguJcWfWh4"
      },
      "execution_count": 1,
      "outputs": []
    },
    {
      "cell_type": "code",
      "source": [
        "  python_obj = json.loads(json_data)\n",
        "\n",
        "  print(f\"변환된 객체 타입: {type(python_obj)}\\n\")\n",
        "\n",
        "  print(f\"name: {python_obj['name']}\")\n",
        "  print(f\"age: {python_obj['age']}\")\n",
        "  print(f\"is_student: {python_obj['is_student']}\")\n",
        "  print(f\"grade: {python_obj['grade']}\")\n",
        "  print(f\"score: {python_obj['score']}\")\n",
        "  print(f\"hobbies: {python_obj['hobbies']}\")\n",
        "  print(f\"address: {python_obj['address']}\")"
      ],
      "metadata": {
        "colab": {
          "base_uri": "https://localhost:8080/"
        },
        "id": "CSvlf_yzfWwU",
        "outputId": "23281e82-0849-4268-983b-ef9e73bfcbe5"
      },
      "execution_count": 4,
      "outputs": [
        {
          "output_type": "stream",
          "name": "stdout",
          "text": [
            "변환된 객체 타입: <class 'dict'>\n",
            "\n",
            "name: 김철수\n",
            "age: 25\n",
            "is_student: True\n",
            "grade: None\n",
            "score: 98.5\n",
            "hobbies: ['독서', '영화 감상', '코딩']\n",
            "address: {'city': '부산', 'zip_code': '48512'}\n"
          ]
        }
      ]
    },
    {
      "cell_type": "code",
      "source": [],
      "metadata": {
        "id": "ULwK5250fe-K"
      },
      "execution_count": null,
      "outputs": []
    }
  ]
}